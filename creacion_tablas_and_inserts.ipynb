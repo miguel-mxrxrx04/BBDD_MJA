{
 "cells": [
  {
   "cell_type": "code",
   "execution_count": 1,
   "id": "6e053526",
   "metadata": {},
   "outputs": [
    {
     "name": "stderr",
     "output_type": "stream",
     "text": [
      "C:\\Users\\MAM\\AppData\\Local\\Temp\\ipykernel_11036\\2723440021.py:4: FutureWarning: The argument 'date_parser' is deprecated and will be removed in a future version. Please use 'date_format' instead, or read your data in as 'object' dtype and then call 'to_datetime'.\n",
      "  df = pd.read_csv(\n"
     ]
    }
   ],
   "source": [
    "import pandas as pd\n",
    "import re\n",
    "\n",
    "df = pd.read_csv(\n",
    "    'club-games.csv',\n",
    "    parse_dates=['fecha'],\n",
    "    date_parser=lambda x: pd.to_datetime(x, format='%Y-%m-%d'),\n",
    "    dtype={'hora': str}\n",
    ")\n",
    "df['hora'] = df['hora'].str.strip()\n"
   ]
  },
  {
   "cell_type": "markdown",
   "id": "8bcc4b19",
   "metadata": {},
   "source": [
    "### Preprocesamientos"
   ]
  },
  {
   "cell_type": "code",
   "execution_count": 2,
   "id": "851f7dce",
   "metadata": {},
   "outputs": [
    {
     "data": {
      "application/vnd.microsoft.datawrangler.viewer.v0+json": {
       "columns": [
        {
         "name": "index",
         "rawType": "int64",
         "type": "integer"
        },
        {
         "name": "partida_id",
         "rawType": "int64",
         "type": "integer"
        },
        {
         "name": "fecha",
         "rawType": "datetime64[ns]",
         "type": "datetime"
        },
        {
         "name": "hora",
         "rawType": "object",
         "type": "string"
        },
        {
         "name": "juego",
         "rawType": "object",
         "type": "string"
        },
        {
         "name": "coste_juego",
         "rawType": "object",
         "type": "string"
        },
        {
         "name": "copia_juego",
         "rawType": "int64",
         "type": "integer"
        },
        {
         "name": "expansiones",
         "rawType": "object",
         "type": "unknown"
        },
        {
         "name": "jugadores",
         "rawType": "object",
         "type": "string"
        },
        {
         "name": "personal",
         "rawType": "object",
         "type": "string"
        },
        {
         "name": "resultado",
         "rawType": "object",
         "type": "string"
        }
       ],
       "conversionMethod": "pd.DataFrame",
       "ref": "6703154e-496e-4442-b1e4-1a2aa570538a",
       "rows": [
        [
         "0",
         "1",
         "2021-08-24 00:00:00",
         "14:44",
         "Scythe",
         "60€",
         "10",
         "Invaders from Afar (coste: 30€, copia: 4)",
         "Melisa de Barrera; Toño Arroyo Vilalta; María Del Carmen Caballero Caparrós; Ariadna Calvo; Moisés Álamo-Llano; Jose Ignacio del Angulo",
         "Alberto Torralba Sierra",
         "María Del Carmen Caballero Caparrós ganó"
        ],
        [
         "1",
         "2",
         "2023-07-02 00:00:00",
         "18:43",
         "Betrayal at House on the Hill",
         "35€",
         "8",
         null,
         "Nieves Zapata Cáceres; Matilde Palomares Vargas; Bernabé Conde Tudela; René Valentín Catalá",
         "Joel Ángel Campillo",
         "René Valentín Catalá ganó"
        ],
        [
         "2",
         "3",
         "2021-04-06 00:00:00",
         "14:46",
         "Catan",
         "45€",
         "8",
         "Ciudades y Caballeros (coste: 30€, copia: 9); Navegadores (coste: 25€, copia: 8)",
         "Itziar Martín Tomas; Elisa Franch Abad; Haroldo Saez-Blanca",
         "Julio Luján Valderrama",
         "Haroldo Saez-Blanca ganó"
        ],
        [
         "3",
         "4",
         "2020-10-02 00:00:00",
         "02:20",
         "Agricola",
         "55€",
         "2",
         null,
         "Flora Díaz Soler; Juan Manuel Oller Palomo; Esther Consuelo Salcedo Polo; Omar Aller Quintanilla; Dani Noguera Aragonés",
         "Amado del Piñeiro",
         "Juan Manuel Oller Palomo ganó"
        ],
        [
         "4",
         "5",
         "2024-01-30 00:00:00",
         "14:09",
         "Arkham Horror: The Card Game",
         "55€",
         "4",
         null,
         "Bernabé Bayona Requena; Adriana Cazorla Nicolau; Jenny Montes Coca; Alonso Victor Anaya Borrell",
         "Débora Escolano Martinez",
         "Alonso Victor Anaya Borrell ganó"
        ]
       ],
       "shape": {
        "columns": 10,
        "rows": 5
       }
      },
      "text/html": [
       "<div>\n",
       "<style scoped>\n",
       "    .dataframe tbody tr th:only-of-type {\n",
       "        vertical-align: middle;\n",
       "    }\n",
       "\n",
       "    .dataframe tbody tr th {\n",
       "        vertical-align: top;\n",
       "    }\n",
       "\n",
       "    .dataframe thead th {\n",
       "        text-align: right;\n",
       "    }\n",
       "</style>\n",
       "<table border=\"1\" class=\"dataframe\">\n",
       "  <thead>\n",
       "    <tr style=\"text-align: right;\">\n",
       "      <th></th>\n",
       "      <th>partida_id</th>\n",
       "      <th>fecha</th>\n",
       "      <th>hora</th>\n",
       "      <th>juego</th>\n",
       "      <th>coste_juego</th>\n",
       "      <th>copia_juego</th>\n",
       "      <th>expansiones</th>\n",
       "      <th>jugadores</th>\n",
       "      <th>personal</th>\n",
       "      <th>resultado</th>\n",
       "    </tr>\n",
       "  </thead>\n",
       "  <tbody>\n",
       "    <tr>\n",
       "      <th>0</th>\n",
       "      <td>1</td>\n",
       "      <td>2021-08-24</td>\n",
       "      <td>14:44</td>\n",
       "      <td>Scythe</td>\n",
       "      <td>60€</td>\n",
       "      <td>10</td>\n",
       "      <td>Invaders from Afar (coste: 30€, copia: 4)</td>\n",
       "      <td>Melisa de Barrera; Toño Arroyo Vilalta; María ...</td>\n",
       "      <td>Alberto Torralba Sierra</td>\n",
       "      <td>María Del Carmen Caballero Caparrós ganó</td>\n",
       "    </tr>\n",
       "    <tr>\n",
       "      <th>1</th>\n",
       "      <td>2</td>\n",
       "      <td>2023-07-02</td>\n",
       "      <td>18:43</td>\n",
       "      <td>Betrayal at House on the Hill</td>\n",
       "      <td>35€</td>\n",
       "      <td>8</td>\n",
       "      <td>NaN</td>\n",
       "      <td>Nieves Zapata Cáceres; Matilde Palomares Varga...</td>\n",
       "      <td>Joel Ángel Campillo</td>\n",
       "      <td>René Valentín Catalá ganó</td>\n",
       "    </tr>\n",
       "    <tr>\n",
       "      <th>2</th>\n",
       "      <td>3</td>\n",
       "      <td>2021-04-06</td>\n",
       "      <td>14:46</td>\n",
       "      <td>Catan</td>\n",
       "      <td>45€</td>\n",
       "      <td>8</td>\n",
       "      <td>Ciudades y Caballeros (coste: 30€, copia: 9); ...</td>\n",
       "      <td>Itziar Martín Tomas; Elisa Franch Abad; Harold...</td>\n",
       "      <td>Julio Luján Valderrama</td>\n",
       "      <td>Haroldo Saez-Blanca ganó</td>\n",
       "    </tr>\n",
       "    <tr>\n",
       "      <th>3</th>\n",
       "      <td>4</td>\n",
       "      <td>2020-10-02</td>\n",
       "      <td>02:20</td>\n",
       "      <td>Agricola</td>\n",
       "      <td>55€</td>\n",
       "      <td>2</td>\n",
       "      <td>NaN</td>\n",
       "      <td>Flora Díaz Soler; Juan Manuel Oller Palomo; Es...</td>\n",
       "      <td>Amado del Piñeiro</td>\n",
       "      <td>Juan Manuel Oller Palomo ganó</td>\n",
       "    </tr>\n",
       "    <tr>\n",
       "      <th>4</th>\n",
       "      <td>5</td>\n",
       "      <td>2024-01-30</td>\n",
       "      <td>14:09</td>\n",
       "      <td>Arkham Horror: The Card Game</td>\n",
       "      <td>55€</td>\n",
       "      <td>4</td>\n",
       "      <td>NaN</td>\n",
       "      <td>Bernabé Bayona Requena; Adriana Cazorla Nicola...</td>\n",
       "      <td>Débora Escolano Martinez</td>\n",
       "      <td>Alonso Victor Anaya Borrell ganó</td>\n",
       "    </tr>\n",
       "  </tbody>\n",
       "</table>\n",
       "</div>"
      ],
      "text/plain": [
       "   partida_id      fecha   hora                          juego coste_juego  \\\n",
       "0           1 2021-08-24  14:44                         Scythe         60€   \n",
       "1           2 2023-07-02  18:43  Betrayal at House on the Hill         35€   \n",
       "2           3 2021-04-06  14:46                          Catan         45€   \n",
       "3           4 2020-10-02  02:20                       Agricola         55€   \n",
       "4           5 2024-01-30  14:09   Arkham Horror: The Card Game         55€   \n",
       "\n",
       "   copia_juego                                        expansiones  \\\n",
       "0           10          Invaders from Afar (coste: 30€, copia: 4)   \n",
       "1            8                                                NaN   \n",
       "2            8  Ciudades y Caballeros (coste: 30€, copia: 9); ...   \n",
       "3            2                                                NaN   \n",
       "4            4                                                NaN   \n",
       "\n",
       "                                           jugadores  \\\n",
       "0  Melisa de Barrera; Toño Arroyo Vilalta; María ...   \n",
       "1  Nieves Zapata Cáceres; Matilde Palomares Varga...   \n",
       "2  Itziar Martín Tomas; Elisa Franch Abad; Harold...   \n",
       "3  Flora Díaz Soler; Juan Manuel Oller Palomo; Es...   \n",
       "4  Bernabé Bayona Requena; Adriana Cazorla Nicola...   \n",
       "\n",
       "                   personal                                 resultado  \n",
       "0   Alberto Torralba Sierra  María Del Carmen Caballero Caparrós ganó  \n",
       "1       Joel Ángel Campillo                 René Valentín Catalá ganó  \n",
       "2    Julio Luján Valderrama                  Haroldo Saez-Blanca ganó  \n",
       "3         Amado del Piñeiro             Juan Manuel Oller Palomo ganó  \n",
       "4  Débora Escolano Martinez          Alonso Victor Anaya Borrell ganó  "
      ]
     },
     "execution_count": 2,
     "metadata": {},
     "output_type": "execute_result"
    }
   ],
   "source": [
    "df.head()"
   ]
  },
  {
   "cell_type": "code",
   "execution_count": 3,
   "id": "0c4413f6",
   "metadata": {},
   "outputs": [
    {
     "data": {
      "text/plain": [
       "0    60\n",
       "1    35\n",
       "2    45\n",
       "3    55\n",
       "4    55\n",
       "Name: coste_juego, dtype: object"
      ]
     },
     "execution_count": 3,
     "metadata": {},
     "output_type": "execute_result"
    }
   ],
   "source": [
    "df.coste_juego = df.coste_juego.str.replace('€', '')\n",
    "df.coste_juego.head()"
   ]
  },
  {
   "cell_type": "code",
   "execution_count": 4,
   "id": "347bedbe",
   "metadata": {},
   "outputs": [
    {
     "data": {
      "application/vnd.microsoft.datawrangler.viewer.v0+json": {
       "columns": [
        {
         "name": "index",
         "rawType": "int64",
         "type": "integer"
        },
        {
         "name": "id_partida",
         "rawType": "int64",
         "type": "integer"
        },
        {
         "name": "fecha",
         "rawType": "datetime64[ns]",
         "type": "datetime"
        },
        {
         "name": "hora",
         "rawType": "object",
         "type": "string"
        },
        {
         "name": "nombre_juego",
         "rawType": "object",
         "type": "string"
        },
        {
         "name": "coste_juego",
         "rawType": "object",
         "type": "string"
        },
        {
         "name": "id_juego",
         "rawType": "int64",
         "type": "integer"
        },
        {
         "name": "nombre_jugador",
         "rawType": "object",
         "type": "string"
        },
        {
         "name": "personal",
         "rawType": "object",
         "type": "string"
        },
        {
         "name": "resultado",
         "rawType": "object",
         "type": "string"
        },
        {
         "name": "nombre_expansion",
         "rawType": "object",
         "type": "unknown"
        },
        {
         "name": "coste_expansion",
         "rawType": "object",
         "type": "unknown"
        },
        {
         "name": "id_expansion",
         "rawType": "object",
         "type": "unknown"
        }
       ],
       "conversionMethod": "pd.DataFrame",
       "ref": "9feee739-0e56-4c5f-a5d0-ac40ad02567f",
       "rows": [
        [
         "0",
         "1",
         "2021-08-24 00:00:00",
         "14:44",
         "Scythe",
         "60",
         "10",
         "Melisa de Barrera; Toño Arroyo Vilalta; María Del Carmen Caballero Caparrós; Ariadna Calvo; Moisés Álamo-Llano; Jose Ignacio del Angulo",
         "Alberto Torralba Sierra",
         "María Del Carmen Caballero Caparrós ganó",
         "Invaders from Afar",
         "30",
         "4"
        ],
        [
         "1",
         "2",
         "2023-07-02 00:00:00",
         "18:43",
         "Betrayal at House on the Hill",
         "35",
         "8",
         "Nieves Zapata Cáceres; Matilde Palomares Vargas; Bernabé Conde Tudela; René Valentín Catalá",
         "Joel Ángel Campillo",
         "René Valentín Catalá ganó",
         null,
         null,
         null
        ],
        [
         "2",
         "3",
         "2021-04-06 00:00:00",
         "14:46",
         "Catan",
         "45",
         "8",
         "Itziar Martín Tomas; Elisa Franch Abad; Haroldo Saez-Blanca",
         "Julio Luján Valderrama",
         "Haroldo Saez-Blanca ganó",
         "Ciudades y Caballeros",
         "30",
         "9"
        ],
        [
         "2",
         "3",
         "2021-04-06 00:00:00",
         "14:46",
         "Catan",
         "45",
         "8",
         "Itziar Martín Tomas; Elisa Franch Abad; Haroldo Saez-Blanca",
         "Julio Luján Valderrama",
         "Haroldo Saez-Blanca ganó",
         "Navegadores",
         "25",
         "8"
        ]
       ],
       "shape": {
        "columns": 12,
        "rows": 4
       }
      },
      "text/html": [
       "<div>\n",
       "<style scoped>\n",
       "    .dataframe tbody tr th:only-of-type {\n",
       "        vertical-align: middle;\n",
       "    }\n",
       "\n",
       "    .dataframe tbody tr th {\n",
       "        vertical-align: top;\n",
       "    }\n",
       "\n",
       "    .dataframe thead th {\n",
       "        text-align: right;\n",
       "    }\n",
       "</style>\n",
       "<table border=\"1\" class=\"dataframe\">\n",
       "  <thead>\n",
       "    <tr style=\"text-align: right;\">\n",
       "      <th></th>\n",
       "      <th>id_partida</th>\n",
       "      <th>fecha</th>\n",
       "      <th>hora</th>\n",
       "      <th>nombre_juego</th>\n",
       "      <th>coste_juego</th>\n",
       "      <th>id_juego</th>\n",
       "      <th>nombre_jugador</th>\n",
       "      <th>personal</th>\n",
       "      <th>resultado</th>\n",
       "      <th>nombre_expansion</th>\n",
       "      <th>coste_expansion</th>\n",
       "      <th>id_expansion</th>\n",
       "    </tr>\n",
       "  </thead>\n",
       "  <tbody>\n",
       "    <tr>\n",
       "      <th>0</th>\n",
       "      <td>1</td>\n",
       "      <td>2021-08-24</td>\n",
       "      <td>14:44</td>\n",
       "      <td>Scythe</td>\n",
       "      <td>60</td>\n",
       "      <td>10</td>\n",
       "      <td>Melisa de Barrera; Toño Arroyo Vilalta; María ...</td>\n",
       "      <td>Alberto Torralba Sierra</td>\n",
       "      <td>María Del Carmen Caballero Caparrós ganó</td>\n",
       "      <td>Invaders from Afar</td>\n",
       "      <td>30</td>\n",
       "      <td>4</td>\n",
       "    </tr>\n",
       "    <tr>\n",
       "      <th>1</th>\n",
       "      <td>2</td>\n",
       "      <td>2023-07-02</td>\n",
       "      <td>18:43</td>\n",
       "      <td>Betrayal at House on the Hill</td>\n",
       "      <td>35</td>\n",
       "      <td>8</td>\n",
       "      <td>Nieves Zapata Cáceres; Matilde Palomares Varga...</td>\n",
       "      <td>Joel Ángel Campillo</td>\n",
       "      <td>René Valentín Catalá ganó</td>\n",
       "      <td>NaN</td>\n",
       "      <td>NaN</td>\n",
       "      <td>NaN</td>\n",
       "    </tr>\n",
       "    <tr>\n",
       "      <th>2</th>\n",
       "      <td>3</td>\n",
       "      <td>2021-04-06</td>\n",
       "      <td>14:46</td>\n",
       "      <td>Catan</td>\n",
       "      <td>45</td>\n",
       "      <td>8</td>\n",
       "      <td>Itziar Martín Tomas; Elisa Franch Abad; Harold...</td>\n",
       "      <td>Julio Luján Valderrama</td>\n",
       "      <td>Haroldo Saez-Blanca ganó</td>\n",
       "      <td>Ciudades y Caballeros</td>\n",
       "      <td>30</td>\n",
       "      <td>9</td>\n",
       "    </tr>\n",
       "    <tr>\n",
       "      <th>2</th>\n",
       "      <td>3</td>\n",
       "      <td>2021-04-06</td>\n",
       "      <td>14:46</td>\n",
       "      <td>Catan</td>\n",
       "      <td>45</td>\n",
       "      <td>8</td>\n",
       "      <td>Itziar Martín Tomas; Elisa Franch Abad; Harold...</td>\n",
       "      <td>Julio Luján Valderrama</td>\n",
       "      <td>Haroldo Saez-Blanca ganó</td>\n",
       "      <td>Navegadores</td>\n",
       "      <td>25</td>\n",
       "      <td>8</td>\n",
       "    </tr>\n",
       "  </tbody>\n",
       "</table>\n",
       "</div>"
      ],
      "text/plain": [
       "   id_partida      fecha   hora                   nombre_juego coste_juego  \\\n",
       "0           1 2021-08-24  14:44                         Scythe          60   \n",
       "1           2 2023-07-02  18:43  Betrayal at House on the Hill          35   \n",
       "2           3 2021-04-06  14:46                          Catan          45   \n",
       "2           3 2021-04-06  14:46                          Catan          45   \n",
       "\n",
       "   id_juego                                     nombre_jugador  \\\n",
       "0        10  Melisa de Barrera; Toño Arroyo Vilalta; María ...   \n",
       "1         8  Nieves Zapata Cáceres; Matilde Palomares Varga...   \n",
       "2         8  Itziar Martín Tomas; Elisa Franch Abad; Harold...   \n",
       "2         8  Itziar Martín Tomas; Elisa Franch Abad; Harold...   \n",
       "\n",
       "                  personal                                 resultado  \\\n",
       "0  Alberto Torralba Sierra  María Del Carmen Caballero Caparrós ganó   \n",
       "1      Joel Ángel Campillo                 René Valentín Catalá ganó   \n",
       "2   Julio Luján Valderrama                  Haroldo Saez-Blanca ganó   \n",
       "2   Julio Luján Valderrama                  Haroldo Saez-Blanca ganó   \n",
       "\n",
       "        nombre_expansion coste_expansion id_expansion  \n",
       "0     Invaders from Afar              30            4  \n",
       "1                    NaN             NaN          NaN  \n",
       "2  Ciudades y Caballeros              30            9  \n",
       "2            Navegadores              25            8  "
      ]
     },
     "execution_count": 4,
     "metadata": {},
     "output_type": "execute_result"
    }
   ],
   "source": [
    "df = df.rename(columns={'partida_id': 'id_partida', 'juego': 'nombre_juego', 'jugadores': 'nombre_jugador', 'copia_juego':'id_juego','copia_expansion':'id_expansion'})\n",
    "df.expansiones = df.expansiones.str.split('; ')\n",
    "df = df.explode('expansiones')\n",
    "df = pd.concat([df.drop(columns=['expansiones']), df.expansiones.str.extract(r'^(?P<nombre>.*) \\(coste: (?P<coste>\\d+)€.*, copia: (?P<id_expansion>\\d+)\\)$')\\\n",
    "    .rename(columns={'nombre': 'nombre_expansion', 'coste': 'coste_expansion'})], axis=1)\n",
    "df.head(4)"
   ]
  },
  {
   "cell_type": "code",
   "execution_count": 5,
   "id": "d75219c3",
   "metadata": {},
   "outputs": [
    {
     "data": {
      "application/vnd.microsoft.datawrangler.viewer.v0+json": {
       "columns": [
        {
         "name": "index",
         "rawType": "int64",
         "type": "integer"
        },
        {
         "name": "id_partida",
         "rawType": "int64",
         "type": "integer"
        },
        {
         "name": "fecha",
         "rawType": "datetime64[ns]",
         "type": "datetime"
        },
        {
         "name": "hora",
         "rawType": "object",
         "type": "string"
        },
        {
         "name": "nombre_juego",
         "rawType": "object",
         "type": "string"
        },
        {
         "name": "coste_juego",
         "rawType": "object",
         "type": "string"
        },
        {
         "name": "id_juego",
         "rawType": "int64",
         "type": "integer"
        },
        {
         "name": "nombre_jugador",
         "rawType": "object",
         "type": "string"
        },
        {
         "name": "personal",
         "rawType": "object",
         "type": "string"
        },
        {
         "name": "resultado",
         "rawType": "object",
         "type": "string"
        },
        {
         "name": "nombre_expansion",
         "rawType": "object",
         "type": "unknown"
        },
        {
         "name": "coste_expansion",
         "rawType": "object",
         "type": "unknown"
        },
        {
         "name": "id_expansion",
         "rawType": "object",
         "type": "unknown"
        }
       ],
       "conversionMethod": "pd.DataFrame",
       "ref": "86058b8c-e445-412e-8d1b-fb48f22c496a",
       "rows": [
        [
         "0",
         "1",
         "2021-08-24 00:00:00",
         "14:44",
         "Scythe",
         "60",
         "10",
         "Melisa de Barrera",
         "Alberto Torralba Sierra",
         "María Del Carmen Caballero Caparrós ganó",
         "Invaders from Afar",
         "30",
         "4"
        ],
        [
         "0",
         "1",
         "2021-08-24 00:00:00",
         "14:44",
         "Scythe",
         "60",
         "10",
         "Toño Arroyo Vilalta",
         "Alberto Torralba Sierra",
         "María Del Carmen Caballero Caparrós ganó",
         "Invaders from Afar",
         "30",
         "4"
        ],
        [
         "0",
         "1",
         "2021-08-24 00:00:00",
         "14:44",
         "Scythe",
         "60",
         "10",
         "María Del Carmen Caballero Caparrós",
         "Alberto Torralba Sierra",
         "María Del Carmen Caballero Caparrós ganó",
         "Invaders from Afar",
         "30",
         "4"
        ],
        [
         "0",
         "1",
         "2021-08-24 00:00:00",
         "14:44",
         "Scythe",
         "60",
         "10",
         "Ariadna Calvo",
         "Alberto Torralba Sierra",
         "María Del Carmen Caballero Caparrós ganó",
         "Invaders from Afar",
         "30",
         "4"
        ],
        [
         "0",
         "1",
         "2021-08-24 00:00:00",
         "14:44",
         "Scythe",
         "60",
         "10",
         "Moisés Álamo-Llano",
         "Alberto Torralba Sierra",
         "María Del Carmen Caballero Caparrós ganó",
         "Invaders from Afar",
         "30",
         "4"
        ],
        [
         "0",
         "1",
         "2021-08-24 00:00:00",
         "14:44",
         "Scythe",
         "60",
         "10",
         "Jose Ignacio del Angulo",
         "Alberto Torralba Sierra",
         "María Del Carmen Caballero Caparrós ganó",
         "Invaders from Afar",
         "30",
         "4"
        ],
        [
         "1",
         "2",
         "2023-07-02 00:00:00",
         "18:43",
         "Betrayal at House on the Hill",
         "35",
         "8",
         "Nieves Zapata Cáceres",
         "Joel Ángel Campillo",
         "René Valentín Catalá ganó",
         null,
         null,
         null
        ],
        [
         "1",
         "2",
         "2023-07-02 00:00:00",
         "18:43",
         "Betrayal at House on the Hill",
         "35",
         "8",
         "Matilde Palomares Vargas",
         "Joel Ángel Campillo",
         "René Valentín Catalá ganó",
         null,
         null,
         null
        ],
        [
         "1",
         "2",
         "2023-07-02 00:00:00",
         "18:43",
         "Betrayal at House on the Hill",
         "35",
         "8",
         "Bernabé Conde Tudela",
         "Joel Ángel Campillo",
         "René Valentín Catalá ganó",
         null,
         null,
         null
        ],
        [
         "1",
         "2",
         "2023-07-02 00:00:00",
         "18:43",
         "Betrayal at House on the Hill",
         "35",
         "8",
         "René Valentín Catalá",
         "Joel Ángel Campillo",
         "René Valentín Catalá ganó",
         null,
         null,
         null
        ]
       ],
       "shape": {
        "columns": 12,
        "rows": 10
       }
      },
      "text/html": [
       "<div>\n",
       "<style scoped>\n",
       "    .dataframe tbody tr th:only-of-type {\n",
       "        vertical-align: middle;\n",
       "    }\n",
       "\n",
       "    .dataframe tbody tr th {\n",
       "        vertical-align: top;\n",
       "    }\n",
       "\n",
       "    .dataframe thead th {\n",
       "        text-align: right;\n",
       "    }\n",
       "</style>\n",
       "<table border=\"1\" class=\"dataframe\">\n",
       "  <thead>\n",
       "    <tr style=\"text-align: right;\">\n",
       "      <th></th>\n",
       "      <th>id_partida</th>\n",
       "      <th>fecha</th>\n",
       "      <th>hora</th>\n",
       "      <th>nombre_juego</th>\n",
       "      <th>coste_juego</th>\n",
       "      <th>id_juego</th>\n",
       "      <th>nombre_jugador</th>\n",
       "      <th>personal</th>\n",
       "      <th>resultado</th>\n",
       "      <th>nombre_expansion</th>\n",
       "      <th>coste_expansion</th>\n",
       "      <th>id_expansion</th>\n",
       "    </tr>\n",
       "  </thead>\n",
       "  <tbody>\n",
       "    <tr>\n",
       "      <th>0</th>\n",
       "      <td>1</td>\n",
       "      <td>2021-08-24</td>\n",
       "      <td>14:44</td>\n",
       "      <td>Scythe</td>\n",
       "      <td>60</td>\n",
       "      <td>10</td>\n",
       "      <td>Melisa de Barrera</td>\n",
       "      <td>Alberto Torralba Sierra</td>\n",
       "      <td>María Del Carmen Caballero Caparrós ganó</td>\n",
       "      <td>Invaders from Afar</td>\n",
       "      <td>30</td>\n",
       "      <td>4</td>\n",
       "    </tr>\n",
       "    <tr>\n",
       "      <th>0</th>\n",
       "      <td>1</td>\n",
       "      <td>2021-08-24</td>\n",
       "      <td>14:44</td>\n",
       "      <td>Scythe</td>\n",
       "      <td>60</td>\n",
       "      <td>10</td>\n",
       "      <td>Toño Arroyo Vilalta</td>\n",
       "      <td>Alberto Torralba Sierra</td>\n",
       "      <td>María Del Carmen Caballero Caparrós ganó</td>\n",
       "      <td>Invaders from Afar</td>\n",
       "      <td>30</td>\n",
       "      <td>4</td>\n",
       "    </tr>\n",
       "    <tr>\n",
       "      <th>0</th>\n",
       "      <td>1</td>\n",
       "      <td>2021-08-24</td>\n",
       "      <td>14:44</td>\n",
       "      <td>Scythe</td>\n",
       "      <td>60</td>\n",
       "      <td>10</td>\n",
       "      <td>María Del Carmen Caballero Caparrós</td>\n",
       "      <td>Alberto Torralba Sierra</td>\n",
       "      <td>María Del Carmen Caballero Caparrós ganó</td>\n",
       "      <td>Invaders from Afar</td>\n",
       "      <td>30</td>\n",
       "      <td>4</td>\n",
       "    </tr>\n",
       "    <tr>\n",
       "      <th>0</th>\n",
       "      <td>1</td>\n",
       "      <td>2021-08-24</td>\n",
       "      <td>14:44</td>\n",
       "      <td>Scythe</td>\n",
       "      <td>60</td>\n",
       "      <td>10</td>\n",
       "      <td>Ariadna Calvo</td>\n",
       "      <td>Alberto Torralba Sierra</td>\n",
       "      <td>María Del Carmen Caballero Caparrós ganó</td>\n",
       "      <td>Invaders from Afar</td>\n",
       "      <td>30</td>\n",
       "      <td>4</td>\n",
       "    </tr>\n",
       "    <tr>\n",
       "      <th>0</th>\n",
       "      <td>1</td>\n",
       "      <td>2021-08-24</td>\n",
       "      <td>14:44</td>\n",
       "      <td>Scythe</td>\n",
       "      <td>60</td>\n",
       "      <td>10</td>\n",
       "      <td>Moisés Álamo-Llano</td>\n",
       "      <td>Alberto Torralba Sierra</td>\n",
       "      <td>María Del Carmen Caballero Caparrós ganó</td>\n",
       "      <td>Invaders from Afar</td>\n",
       "      <td>30</td>\n",
       "      <td>4</td>\n",
       "    </tr>\n",
       "    <tr>\n",
       "      <th>0</th>\n",
       "      <td>1</td>\n",
       "      <td>2021-08-24</td>\n",
       "      <td>14:44</td>\n",
       "      <td>Scythe</td>\n",
       "      <td>60</td>\n",
       "      <td>10</td>\n",
       "      <td>Jose Ignacio del Angulo</td>\n",
       "      <td>Alberto Torralba Sierra</td>\n",
       "      <td>María Del Carmen Caballero Caparrós ganó</td>\n",
       "      <td>Invaders from Afar</td>\n",
       "      <td>30</td>\n",
       "      <td>4</td>\n",
       "    </tr>\n",
       "    <tr>\n",
       "      <th>1</th>\n",
       "      <td>2</td>\n",
       "      <td>2023-07-02</td>\n",
       "      <td>18:43</td>\n",
       "      <td>Betrayal at House on the Hill</td>\n",
       "      <td>35</td>\n",
       "      <td>8</td>\n",
       "      <td>Nieves Zapata Cáceres</td>\n",
       "      <td>Joel Ángel Campillo</td>\n",
       "      <td>René Valentín Catalá ganó</td>\n",
       "      <td>NaN</td>\n",
       "      <td>NaN</td>\n",
       "      <td>NaN</td>\n",
       "    </tr>\n",
       "    <tr>\n",
       "      <th>1</th>\n",
       "      <td>2</td>\n",
       "      <td>2023-07-02</td>\n",
       "      <td>18:43</td>\n",
       "      <td>Betrayal at House on the Hill</td>\n",
       "      <td>35</td>\n",
       "      <td>8</td>\n",
       "      <td>Matilde Palomares Vargas</td>\n",
       "      <td>Joel Ángel Campillo</td>\n",
       "      <td>René Valentín Catalá ganó</td>\n",
       "      <td>NaN</td>\n",
       "      <td>NaN</td>\n",
       "      <td>NaN</td>\n",
       "    </tr>\n",
       "    <tr>\n",
       "      <th>1</th>\n",
       "      <td>2</td>\n",
       "      <td>2023-07-02</td>\n",
       "      <td>18:43</td>\n",
       "      <td>Betrayal at House on the Hill</td>\n",
       "      <td>35</td>\n",
       "      <td>8</td>\n",
       "      <td>Bernabé Conde Tudela</td>\n",
       "      <td>Joel Ángel Campillo</td>\n",
       "      <td>René Valentín Catalá ganó</td>\n",
       "      <td>NaN</td>\n",
       "      <td>NaN</td>\n",
       "      <td>NaN</td>\n",
       "    </tr>\n",
       "    <tr>\n",
       "      <th>1</th>\n",
       "      <td>2</td>\n",
       "      <td>2023-07-02</td>\n",
       "      <td>18:43</td>\n",
       "      <td>Betrayal at House on the Hill</td>\n",
       "      <td>35</td>\n",
       "      <td>8</td>\n",
       "      <td>René Valentín Catalá</td>\n",
       "      <td>Joel Ángel Campillo</td>\n",
       "      <td>René Valentín Catalá ganó</td>\n",
       "      <td>NaN</td>\n",
       "      <td>NaN</td>\n",
       "      <td>NaN</td>\n",
       "    </tr>\n",
       "  </tbody>\n",
       "</table>\n",
       "</div>"
      ],
      "text/plain": [
       "   id_partida      fecha   hora                   nombre_juego coste_juego  \\\n",
       "0           1 2021-08-24  14:44                         Scythe          60   \n",
       "0           1 2021-08-24  14:44                         Scythe          60   \n",
       "0           1 2021-08-24  14:44                         Scythe          60   \n",
       "0           1 2021-08-24  14:44                         Scythe          60   \n",
       "0           1 2021-08-24  14:44                         Scythe          60   \n",
       "0           1 2021-08-24  14:44                         Scythe          60   \n",
       "1           2 2023-07-02  18:43  Betrayal at House on the Hill          35   \n",
       "1           2 2023-07-02  18:43  Betrayal at House on the Hill          35   \n",
       "1           2 2023-07-02  18:43  Betrayal at House on the Hill          35   \n",
       "1           2 2023-07-02  18:43  Betrayal at House on the Hill          35   \n",
       "\n",
       "   id_juego                       nombre_jugador                 personal  \\\n",
       "0        10                    Melisa de Barrera  Alberto Torralba Sierra   \n",
       "0        10                  Toño Arroyo Vilalta  Alberto Torralba Sierra   \n",
       "0        10  María Del Carmen Caballero Caparrós  Alberto Torralba Sierra   \n",
       "0        10                        Ariadna Calvo  Alberto Torralba Sierra   \n",
       "0        10                   Moisés Álamo-Llano  Alberto Torralba Sierra   \n",
       "0        10              Jose Ignacio del Angulo  Alberto Torralba Sierra   \n",
       "1         8                Nieves Zapata Cáceres      Joel Ángel Campillo   \n",
       "1         8             Matilde Palomares Vargas      Joel Ángel Campillo   \n",
       "1         8                 Bernabé Conde Tudela      Joel Ángel Campillo   \n",
       "1         8                 René Valentín Catalá      Joel Ángel Campillo   \n",
       "\n",
       "                                  resultado    nombre_expansion  \\\n",
       "0  María Del Carmen Caballero Caparrós ganó  Invaders from Afar   \n",
       "0  María Del Carmen Caballero Caparrós ganó  Invaders from Afar   \n",
       "0  María Del Carmen Caballero Caparrós ganó  Invaders from Afar   \n",
       "0  María Del Carmen Caballero Caparrós ganó  Invaders from Afar   \n",
       "0  María Del Carmen Caballero Caparrós ganó  Invaders from Afar   \n",
       "0  María Del Carmen Caballero Caparrós ganó  Invaders from Afar   \n",
       "1                 René Valentín Catalá ganó                 NaN   \n",
       "1                 René Valentín Catalá ganó                 NaN   \n",
       "1                 René Valentín Catalá ganó                 NaN   \n",
       "1                 René Valentín Catalá ganó                 NaN   \n",
       "\n",
       "  coste_expansion id_expansion  \n",
       "0              30            4  \n",
       "0              30            4  \n",
       "0              30            4  \n",
       "0              30            4  \n",
       "0              30            4  \n",
       "0              30            4  \n",
       "1             NaN          NaN  \n",
       "1             NaN          NaN  \n",
       "1             NaN          NaN  \n",
       "1             NaN          NaN  "
      ]
     },
     "execution_count": 5,
     "metadata": {},
     "output_type": "execute_result"
    }
   ],
   "source": [
    "df.nombre_jugador = df.nombre_jugador.str.split('; ')\n",
    "df = df.explode('nombre_jugador')\n",
    "df.head(10)"
   ]
  },
  {
   "cell_type": "code",
   "execution_count": 6,
   "id": "16ff6c9c",
   "metadata": {},
   "outputs": [
    {
     "data": {
      "application/vnd.microsoft.datawrangler.viewer.v0+json": {
       "columns": [
        {
         "name": "index",
         "rawType": "int64",
         "type": "integer"
        },
        {
         "name": "id_partida",
         "rawType": "int64",
         "type": "integer"
        },
        {
         "name": "fecha",
         "rawType": "datetime64[ns]",
         "type": "datetime"
        },
        {
         "name": "hora",
         "rawType": "object",
         "type": "string"
        },
        {
         "name": "nombre_juego",
         "rawType": "object",
         "type": "string"
        },
        {
         "name": "coste_juego",
         "rawType": "object",
         "type": "string"
        },
        {
         "name": "id_juego",
         "rawType": "int64",
         "type": "integer"
        },
        {
         "name": "nombre_jugador",
         "rawType": "object",
         "type": "string"
        },
        {
         "name": "personal",
         "rawType": "object",
         "type": "string"
        },
        {
         "name": "resultado",
         "rawType": "object",
         "type": "string"
        },
        {
         "name": "nombre_expansion",
         "rawType": "object",
         "type": "string"
        },
        {
         "name": "coste_expansion",
         "rawType": "object",
         "type": "string"
        },
        {
         "name": "id_expansion",
         "rawType": "object",
         "type": "string"
        }
       ],
       "conversionMethod": "pd.DataFrame",
       "ref": "6e61fc86-90bc-443b-ac5b-c58f97788b43",
       "rows": [
        [
         "0",
         "1",
         "2021-08-24 00:00:00",
         "14:44",
         "Scythe",
         "60",
         "10",
         "Melisa de Barrera",
         "Alberto Torralba Sierra",
         "María Del Carmen Caballero Caparrós",
         "Invaders from Afar",
         "30",
         "4"
        ],
        [
         "0",
         "1",
         "2021-08-24 00:00:00",
         "14:44",
         "Scythe",
         "60",
         "10",
         "Toño Arroyo Vilalta",
         "Alberto Torralba Sierra",
         "María Del Carmen Caballero Caparrós",
         "Invaders from Afar",
         "30",
         "4"
        ],
        [
         "0",
         "1",
         "2021-08-24 00:00:00",
         "14:44",
         "Scythe",
         "60",
         "10",
         "María Del Carmen Caballero Caparrós",
         "Alberto Torralba Sierra",
         "María Del Carmen Caballero Caparrós",
         "Invaders from Afar",
         "30",
         "4"
        ]
       ],
       "shape": {
        "columns": 12,
        "rows": 3
       }
      },
      "text/html": [
       "<div>\n",
       "<style scoped>\n",
       "    .dataframe tbody tr th:only-of-type {\n",
       "        vertical-align: middle;\n",
       "    }\n",
       "\n",
       "    .dataframe tbody tr th {\n",
       "        vertical-align: top;\n",
       "    }\n",
       "\n",
       "    .dataframe thead th {\n",
       "        text-align: right;\n",
       "    }\n",
       "</style>\n",
       "<table border=\"1\" class=\"dataframe\">\n",
       "  <thead>\n",
       "    <tr style=\"text-align: right;\">\n",
       "      <th></th>\n",
       "      <th>id_partida</th>\n",
       "      <th>fecha</th>\n",
       "      <th>hora</th>\n",
       "      <th>nombre_juego</th>\n",
       "      <th>coste_juego</th>\n",
       "      <th>id_juego</th>\n",
       "      <th>nombre_jugador</th>\n",
       "      <th>personal</th>\n",
       "      <th>resultado</th>\n",
       "      <th>nombre_expansion</th>\n",
       "      <th>coste_expansion</th>\n",
       "      <th>id_expansion</th>\n",
       "    </tr>\n",
       "  </thead>\n",
       "  <tbody>\n",
       "    <tr>\n",
       "      <th>0</th>\n",
       "      <td>1</td>\n",
       "      <td>2021-08-24</td>\n",
       "      <td>14:44</td>\n",
       "      <td>Scythe</td>\n",
       "      <td>60</td>\n",
       "      <td>10</td>\n",
       "      <td>Melisa de Barrera</td>\n",
       "      <td>Alberto Torralba Sierra</td>\n",
       "      <td>María Del Carmen Caballero Caparrós</td>\n",
       "      <td>Invaders from Afar</td>\n",
       "      <td>30</td>\n",
       "      <td>4</td>\n",
       "    </tr>\n",
       "    <tr>\n",
       "      <th>0</th>\n",
       "      <td>1</td>\n",
       "      <td>2021-08-24</td>\n",
       "      <td>14:44</td>\n",
       "      <td>Scythe</td>\n",
       "      <td>60</td>\n",
       "      <td>10</td>\n",
       "      <td>Toño Arroyo Vilalta</td>\n",
       "      <td>Alberto Torralba Sierra</td>\n",
       "      <td>María Del Carmen Caballero Caparrós</td>\n",
       "      <td>Invaders from Afar</td>\n",
       "      <td>30</td>\n",
       "      <td>4</td>\n",
       "    </tr>\n",
       "    <tr>\n",
       "      <th>0</th>\n",
       "      <td>1</td>\n",
       "      <td>2021-08-24</td>\n",
       "      <td>14:44</td>\n",
       "      <td>Scythe</td>\n",
       "      <td>60</td>\n",
       "      <td>10</td>\n",
       "      <td>María Del Carmen Caballero Caparrós</td>\n",
       "      <td>Alberto Torralba Sierra</td>\n",
       "      <td>María Del Carmen Caballero Caparrós</td>\n",
       "      <td>Invaders from Afar</td>\n",
       "      <td>30</td>\n",
       "      <td>4</td>\n",
       "    </tr>\n",
       "  </tbody>\n",
       "</table>\n",
       "</div>"
      ],
      "text/plain": [
       "   id_partida      fecha   hora nombre_juego coste_juego  id_juego  \\\n",
       "0           1 2021-08-24  14:44       Scythe          60        10   \n",
       "0           1 2021-08-24  14:44       Scythe          60        10   \n",
       "0           1 2021-08-24  14:44       Scythe          60        10   \n",
       "\n",
       "                        nombre_jugador                 personal  \\\n",
       "0                    Melisa de Barrera  Alberto Torralba Sierra   \n",
       "0                  Toño Arroyo Vilalta  Alberto Torralba Sierra   \n",
       "0  María Del Carmen Caballero Caparrós  Alberto Torralba Sierra   \n",
       "\n",
       "                             resultado    nombre_expansion coste_expansion  \\\n",
       "0  María Del Carmen Caballero Caparrós  Invaders from Afar              30   \n",
       "0  María Del Carmen Caballero Caparrós  Invaders from Afar              30   \n",
       "0  María Del Carmen Caballero Caparrós  Invaders from Afar              30   \n",
       "\n",
       "  id_expansion  \n",
       "0            4  \n",
       "0            4  \n",
       "0            4  "
      ]
     },
     "execution_count": 6,
     "metadata": {},
     "output_type": "execute_result"
    }
   ],
   "source": [
    "df.resultado = df.resultado.str.replace(' ganó', '').str.strip()\n",
    "df.head(3)"
   ]
  },
  {
   "cell_type": "markdown",
   "id": "fce684be",
   "metadata": {},
   "source": [
    "Arreglamos este problema que luego al pasar a sql da problemas."
   ]
  },
  {
   "cell_type": "code",
   "execution_count": 7,
   "id": "a7fad674",
   "metadata": {},
   "outputs": [],
   "source": [
    "df.personal = df.personal.str.replace('Cruz de Saez', 'Cruz de Sáez')"
   ]
  },
  {
   "cell_type": "markdown",
   "id": "196dcb8f",
   "metadata": {},
   "source": [
    "## 2. Hacemos cada tabla\n",
    "### JUGADOR"
   ]
  },
  {
   "cell_type": "code",
   "execution_count": 8,
   "id": "43394e8f",
   "metadata": {},
   "outputs": [
    {
     "data": {
      "application/vnd.microsoft.datawrangler.viewer.v0+json": {
       "columns": [
        {
         "name": "index",
         "rawType": "int64",
         "type": "integer"
        },
        {
         "name": "nombre_jugador",
         "rawType": "object",
         "type": "string"
        }
       ],
       "conversionMethod": "pd.DataFrame",
       "ref": "104db9d9-5f07-41dc-8704-4aed7b3525c3",
       "rows": [
        [
         "0",
         "Melisa de Barrera"
        ],
        [
         "0",
         "Toño Arroyo Vilalta"
        ],
        [
         "0",
         "María Del Carmen Caballero Caparrós"
        ],
        [
         "0",
         "Ariadna Calvo"
        ],
        [
         "0",
         "Moisés Álamo-Llano"
        ],
        [
         "0",
         "Jose Ignacio del Angulo"
        ],
        [
         "1",
         "Nieves Zapata Cáceres"
        ],
        [
         "1",
         "Matilde Palomares Vargas"
        ],
        [
         "1",
         "Bernabé Conde Tudela"
        ],
        [
         "1",
         "René Valentín Catalá"
        ],
        [
         "2",
         "Itziar Martín Tomas"
        ],
        [
         "2",
         "Elisa Franch Abad"
        ],
        [
         "2",
         "Haroldo Saez-Blanca"
        ],
        [
         "3",
         "Flora Díaz Soler"
        ],
        [
         "3",
         "Juan Manuel Oller Palomo"
        ],
        [
         "3",
         "Esther Consuelo Salcedo Polo"
        ],
        [
         "3",
         "Omar Aller Quintanilla"
        ],
        [
         "3",
         "Dani Noguera Aragonés"
        ],
        [
         "4",
         "Bernabé Bayona Requena"
        ],
        [
         "4",
         "Adriana Cazorla Nicolau"
        ],
        [
         "4",
         "Jenny Montes Coca"
        ],
        [
         "4",
         "Alonso Victor Anaya Borrell"
        ],
        [
         "5",
         "Maribel Figuerola"
        ],
        [
         "5",
         "Adela de Perea"
        ],
        [
         "6",
         "Rosalía Diez-Calvo"
        ],
        [
         "6",
         "Leocadia Salvà"
        ],
        [
         "6",
         "Adora Julián Cerdán"
        ],
        [
         "6",
         "Gil del Navarrete"
        ],
        [
         "6",
         "Dominga Peña Cárdenas"
        ],
        [
         "6",
         "Toni Onofre Galván Feliu"
        ],
        [
         "7",
         "Joel Almagro Gomila"
        ],
        [
         "7",
         "Emperatriz Ferrando Guijarro"
        ],
        [
         "7",
         "Cándida Montoya Blanch"
        ],
        [
         "7",
         "Ceferino Antúnez"
        ],
        [
         "7",
         "Palmira Navas Lumbreras"
        ],
        [
         "7",
         "Octavio Goñi-Catalán"
        ],
        [
         "8",
         "Ismael Torrecilla Cruz"
        ],
        [
         "8",
         "Micaela Conde"
        ],
        [
         "9",
         "Heraclio Sierra Esparza"
        ],
        [
         "9",
         "Anna Caparrós Juan"
        ],
        [
         "9",
         "Clotilde de Murcia"
        ],
        [
         "9",
         "Vinicio Alfaro Rios"
        ],
        [
         "9",
         "Dan Álvaro Moll"
        ],
        [
         "10",
         "Nidia Gutierrez-Arcos"
        ],
        [
         "10",
         "Édgar Solís Neira"
        ],
        [
         "11",
         "Omar Fuertes"
        ],
        [
         "11",
         "Cosme Solana Echeverría"
        ],
        [
         "11",
         "Adelardo Florentino Simó Vendrell"
        ],
        [
         "11",
         "Ximena Rocamora Torrijos"
        ],
        [
         "12",
         "Joaquín Tomás-Verdejo"
        ]
       ],
       "shape": {
        "columns": 1,
        "rows": 199696
       }
      },
      "text/html": [
       "<div>\n",
       "<style scoped>\n",
       "    .dataframe tbody tr th:only-of-type {\n",
       "        vertical-align: middle;\n",
       "    }\n",
       "\n",
       "    .dataframe tbody tr th {\n",
       "        vertical-align: top;\n",
       "    }\n",
       "\n",
       "    .dataframe thead th {\n",
       "        text-align: right;\n",
       "    }\n",
       "</style>\n",
       "<table border=\"1\" class=\"dataframe\">\n",
       "  <thead>\n",
       "    <tr style=\"text-align: right;\">\n",
       "      <th></th>\n",
       "      <th>nombre_jugador</th>\n",
       "    </tr>\n",
       "  </thead>\n",
       "  <tbody>\n",
       "    <tr>\n",
       "      <th>0</th>\n",
       "      <td>Melisa de Barrera</td>\n",
       "    </tr>\n",
       "    <tr>\n",
       "      <th>0</th>\n",
       "      <td>Toño Arroyo Vilalta</td>\n",
       "    </tr>\n",
       "    <tr>\n",
       "      <th>0</th>\n",
       "      <td>María Del Carmen Caballero Caparrós</td>\n",
       "    </tr>\n",
       "    <tr>\n",
       "      <th>0</th>\n",
       "      <td>Ariadna Calvo</td>\n",
       "    </tr>\n",
       "    <tr>\n",
       "      <th>0</th>\n",
       "      <td>Moisés Álamo-Llano</td>\n",
       "    </tr>\n",
       "    <tr>\n",
       "      <th>...</th>\n",
       "      <td>...</td>\n",
       "    </tr>\n",
       "    <tr>\n",
       "      <th>49999</th>\n",
       "      <td>Cesar Escribano Adán</td>\n",
       "    </tr>\n",
       "    <tr>\n",
       "      <th>49999</th>\n",
       "      <td>Rubén Conesa Arcos</td>\n",
       "    </tr>\n",
       "    <tr>\n",
       "      <th>49999</th>\n",
       "      <td>Jennifer Bello Casares</td>\n",
       "    </tr>\n",
       "    <tr>\n",
       "      <th>49999</th>\n",
       "      <td>Jacinta Castilla Amaya</td>\n",
       "    </tr>\n",
       "    <tr>\n",
       "      <th>49999</th>\n",
       "      <td>Amalia Serafina Vicente Aller</td>\n",
       "    </tr>\n",
       "  </tbody>\n",
       "</table>\n",
       "<p>199696 rows × 1 columns</p>\n",
       "</div>"
      ],
      "text/plain": [
       "                            nombre_jugador\n",
       "0                        Melisa de Barrera\n",
       "0                      Toño Arroyo Vilalta\n",
       "0      María Del Carmen Caballero Caparrós\n",
       "0                            Ariadna Calvo\n",
       "0                       Moisés Álamo-Llano\n",
       "...                                    ...\n",
       "49999                 Cesar Escribano Adán\n",
       "49999                   Rubén Conesa Arcos\n",
       "49999               Jennifer Bello Casares\n",
       "49999               Jacinta Castilla Amaya\n",
       "49999        Amalia Serafina Vicente Aller\n",
       "\n",
       "[199696 rows x 1 columns]"
      ]
     },
     "execution_count": 8,
     "metadata": {},
     "output_type": "execute_result"
    }
   ],
   "source": [
    "jugador = df.nombre_jugador.drop_duplicates().to_frame()\n",
    "\n",
    "jugador"
   ]
  },
  {
   "cell_type": "code",
   "execution_count": 9,
   "id": "b4fced02",
   "metadata": {},
   "outputs": [
    {
     "data": {
      "application/vnd.microsoft.datawrangler.viewer.v0+json": {
       "columns": [
        {
         "name": "index",
         "rawType": "int64",
         "type": "integer"
        },
        {
         "name": "nombre_jugador",
         "rawType": "object",
         "type": "string"
        }
       ],
       "conversionMethod": "pd.DataFrame",
       "ref": "3942627b-cde0-4ac3-b3c2-edf1ab767b7b",
       "rows": [
        [
         "5544",
         "Luis Rosell"
        ],
        [
         "6527",
         "Luis Roselló"
        ],
        [
         "15760",
         "Edu Jose Luis Rosell Porras"
        ],
        [
         "33079",
         "Juan Luis Roselló"
        ]
       ],
       "shape": {
        "columns": 1,
        "rows": 4
       }
      },
      "text/html": [
       "<div>\n",
       "<style scoped>\n",
       "    .dataframe tbody tr th:only-of-type {\n",
       "        vertical-align: middle;\n",
       "    }\n",
       "\n",
       "    .dataframe tbody tr th {\n",
       "        vertical-align: top;\n",
       "    }\n",
       "\n",
       "    .dataframe thead th {\n",
       "        text-align: right;\n",
       "    }\n",
       "</style>\n",
       "<table border=\"1\" class=\"dataframe\">\n",
       "  <thead>\n",
       "    <tr style=\"text-align: right;\">\n",
       "      <th></th>\n",
       "      <th>nombre_jugador</th>\n",
       "    </tr>\n",
       "  </thead>\n",
       "  <tbody>\n",
       "    <tr>\n",
       "      <th>5544</th>\n",
       "      <td>Luis Rosell</td>\n",
       "    </tr>\n",
       "    <tr>\n",
       "      <th>6527</th>\n",
       "      <td>Luis Roselló</td>\n",
       "    </tr>\n",
       "    <tr>\n",
       "      <th>15760</th>\n",
       "      <td>Edu Jose Luis Rosell Porras</td>\n",
       "    </tr>\n",
       "    <tr>\n",
       "      <th>33079</th>\n",
       "      <td>Juan Luis Roselló</td>\n",
       "    </tr>\n",
       "  </tbody>\n",
       "</table>\n",
       "</div>"
      ],
      "text/plain": [
       "                    nombre_jugador\n",
       "5544                   Luis Rosell\n",
       "6527                  Luis Roselló\n",
       "15760  Edu Jose Luis Rosell Porras\n",
       "33079            Juan Luis Roselló"
      ]
     },
     "execution_count": 9,
     "metadata": {},
     "output_type": "execute_result"
    }
   ],
   "source": [
    "jugador[jugador.nombre_jugador.str.lower().str.contains('luis rosell')]"
   ]
  },
  {
   "cell_type": "markdown",
   "id": "56eff3f9",
   "metadata": {},
   "source": [
    "#### JUEGO"
   ]
  },
  {
   "cell_type": "code",
   "execution_count": 10,
   "id": "6f3bad68",
   "metadata": {},
   "outputs": [
    {
     "data": {
      "application/vnd.microsoft.datawrangler.viewer.v0+json": {
       "columns": [
        {
         "name": "index",
         "rawType": "int64",
         "type": "integer"
        },
        {
         "name": "nombre_juego",
         "rawType": "object",
         "type": "string"
        }
       ],
       "conversionMethod": "pd.DataFrame",
       "ref": "10a63af1-9a21-4fa5-b236-57aa77dc81b9",
       "rows": [
        [
         "0",
         "Scythe"
        ],
        [
         "1",
         "Betrayal at House on the Hill"
        ],
        [
         "2",
         "Catan"
        ],
        [
         "3",
         "Agricola"
        ],
        [
         "4",
         "Arkham Horror: The Card Game"
        ],
        [
         "5",
         "Codenames"
        ],
        [
         "6",
         "Memoir '44"
        ],
        [
         "7",
         "Pandemic"
        ],
        [
         "8",
         "Dominion"
        ],
        [
         "9",
         "Ajedrez"
        ],
        [
         "10",
         "Carcassonne"
        ],
        [
         "11",
         "Small World"
        ],
        [
         "12",
         "Terraforming Mars"
        ],
        [
         "13",
         "Dixit"
        ],
        [
         "14",
         "Gloomhaven"
        ],
        [
         "15",
         "7 Wonders"
        ],
        [
         "16",
         "Ticket to Ride"
        ]
       ],
       "shape": {
        "columns": 1,
        "rows": 17
       }
      },
      "text/html": [
       "<div>\n",
       "<style scoped>\n",
       "    .dataframe tbody tr th:only-of-type {\n",
       "        vertical-align: middle;\n",
       "    }\n",
       "\n",
       "    .dataframe tbody tr th {\n",
       "        vertical-align: top;\n",
       "    }\n",
       "\n",
       "    .dataframe thead th {\n",
       "        text-align: right;\n",
       "    }\n",
       "</style>\n",
       "<table border=\"1\" class=\"dataframe\">\n",
       "  <thead>\n",
       "    <tr style=\"text-align: right;\">\n",
       "      <th></th>\n",
       "      <th>nombre_juego</th>\n",
       "    </tr>\n",
       "  </thead>\n",
       "  <tbody>\n",
       "    <tr>\n",
       "      <th>0</th>\n",
       "      <td>Scythe</td>\n",
       "    </tr>\n",
       "    <tr>\n",
       "      <th>1</th>\n",
       "      <td>Betrayal at House on the Hill</td>\n",
       "    </tr>\n",
       "    <tr>\n",
       "      <th>2</th>\n",
       "      <td>Catan</td>\n",
       "    </tr>\n",
       "    <tr>\n",
       "      <th>3</th>\n",
       "      <td>Agricola</td>\n",
       "    </tr>\n",
       "    <tr>\n",
       "      <th>4</th>\n",
       "      <td>Arkham Horror: The Card Game</td>\n",
       "    </tr>\n",
       "    <tr>\n",
       "      <th>5</th>\n",
       "      <td>Codenames</td>\n",
       "    </tr>\n",
       "    <tr>\n",
       "      <th>6</th>\n",
       "      <td>Memoir '44</td>\n",
       "    </tr>\n",
       "    <tr>\n",
       "      <th>7</th>\n",
       "      <td>Pandemic</td>\n",
       "    </tr>\n",
       "    <tr>\n",
       "      <th>8</th>\n",
       "      <td>Dominion</td>\n",
       "    </tr>\n",
       "    <tr>\n",
       "      <th>9</th>\n",
       "      <td>Ajedrez</td>\n",
       "    </tr>\n",
       "    <tr>\n",
       "      <th>10</th>\n",
       "      <td>Carcassonne</td>\n",
       "    </tr>\n",
       "    <tr>\n",
       "      <th>11</th>\n",
       "      <td>Small World</td>\n",
       "    </tr>\n",
       "    <tr>\n",
       "      <th>12</th>\n",
       "      <td>Terraforming Mars</td>\n",
       "    </tr>\n",
       "    <tr>\n",
       "      <th>13</th>\n",
       "      <td>Dixit</td>\n",
       "    </tr>\n",
       "    <tr>\n",
       "      <th>14</th>\n",
       "      <td>Gloomhaven</td>\n",
       "    </tr>\n",
       "    <tr>\n",
       "      <th>15</th>\n",
       "      <td>7 Wonders</td>\n",
       "    </tr>\n",
       "    <tr>\n",
       "      <th>16</th>\n",
       "      <td>Ticket to Ride</td>\n",
       "    </tr>\n",
       "  </tbody>\n",
       "</table>\n",
       "</div>"
      ],
      "text/plain": [
       "                     nombre_juego\n",
       "0                          Scythe\n",
       "1   Betrayal at House on the Hill\n",
       "2                           Catan\n",
       "3                        Agricola\n",
       "4    Arkham Horror: The Card Game\n",
       "5                       Codenames\n",
       "6                      Memoir '44\n",
       "7                        Pandemic\n",
       "8                        Dominion\n",
       "9                         Ajedrez\n",
       "10                    Carcassonne\n",
       "11                    Small World\n",
       "12              Terraforming Mars\n",
       "13                          Dixit\n",
       "14                     Gloomhaven\n",
       "15                      7 Wonders\n",
       "16                 Ticket to Ride"
      ]
     },
     "execution_count": 10,
     "metadata": {},
     "output_type": "execute_result"
    }
   ],
   "source": [
    "juego = df.nombre_juego.drop_duplicates().to_frame().reset_index(drop=True)\n",
    "juego"
   ]
  },
  {
   "cell_type": "markdown",
   "id": "a46a276e",
   "metadata": {},
   "source": [
    "#### PERSONAL"
   ]
  },
  {
   "cell_type": "code",
   "execution_count": 11,
   "id": "e42b78ee",
   "metadata": {},
   "outputs": [
    {
     "data": {
      "application/vnd.microsoft.datawrangler.viewer.v0+json": {
       "columns": [
        {
         "name": "index",
         "rawType": "int64",
         "type": "integer"
        },
        {
         "name": "nombre_personal",
         "rawType": "object",
         "type": "string"
        }
       ],
       "conversionMethod": "pd.DataFrame",
       "ref": "1908b4fe-e200-49df-8b0a-6f69e387f426",
       "rows": [
        [
         "0",
         "Alberto Torralba Sierra"
        ],
        [
         "1",
         "Joel Ángel Campillo"
        ],
        [
         "2",
         "Julio Luján Valderrama"
        ],
        [
         "3",
         "Amado del Piñeiro"
        ],
        [
         "4",
         "Débora Escolano Martinez"
        ],
        [
         "5",
         "Edgardo Huguet Jover"
        ],
        [
         "6",
         "Evita Poza Roca"
        ],
        [
         "7",
         "Melchor Cuéllar Bravo"
        ],
        [
         "8",
         "Elvira Prada Sastre"
        ],
        [
         "9",
         "Águeda Nogués Arteaga"
        ],
        [
         "10",
         "Leoncio Campo-Bravo"
        ],
        [
         "11",
         "Haroldo Bou Benito"
        ],
        [
         "12",
         "Tiburcio Noguera-Reina"
        ],
        [
         "13",
         "Alma Marti Corominas"
        ],
        [
         "14",
         "Cándido Nuñez Larrañaga"
        ],
        [
         "15",
         "Cesar Barbero"
        ],
        [
         "16",
         "Odalis de Ureña"
        ],
        [
         "17",
         "Gerónimo Sigfrido Pera Bustamante"
        ],
        [
         "18",
         "Victoria Miró Simó"
        ],
        [
         "19",
         "Micaela Arce"
        ],
        [
         "20",
         "María Cristina Vidal"
        ],
        [
         "21",
         "Mar Tejada-Casanovas"
        ],
        [
         "22",
         "Yaiza González"
        ],
        [
         "23",
         "Isidoro Riera Acosta"
        ],
        [
         "24",
         "Salvador Goicoechea Ruano"
        ],
        [
         "25",
         "Candelario de Alberdi"
        ],
        [
         "26",
         "Yaiza Nogueira Redondo"
        ],
        [
         "27",
         "Lucila del Milla"
        ],
        [
         "28",
         "Adelaida Vilma Vara Bernal"
        ],
        [
         "29",
         "Berto de Olivé"
        ],
        [
         "30",
         "Nadia Lupe Valencia Carmona"
        ],
        [
         "31",
         "Susana Rico-Llorente"
        ],
        [
         "32",
         "Rocío Merino Amor"
        ],
        [
         "33",
         "María Cristina Bauzà Piña"
        ],
        [
         "34",
         "Flora Blanca Atienza"
        ],
        [
         "35",
         "Calisto Morata Ribes"
        ],
        [
         "36",
         "Onofre Linares-Higueras"
        ],
        [
         "37",
         "Sergio Gracia-Pedraza"
        ],
        [
         "38",
         "Juan Luis Cardona Moraleda"
        ],
        [
         "39",
         "María Guadalupe Sotelo Leon"
        ],
        [
         "40",
         "Pepito Ripoll Vendrell"
        ],
        [
         "41",
         "Elías Pizarro Rosales"
        ],
        [
         "42",
         "Ángeles Carrillo Castell"
        ],
        [
         "43",
         "Andrés Felipe Gutierrez Bermudez"
        ],
        [
         "44",
         "José Luis Lucas"
        ],
        [
         "45",
         "Visitación Niño"
        ],
        [
         "46",
         "Trinidad Mínguez Llano"
        ],
        [
         "47",
         "Rodrigo Aroca-Cordero"
        ],
        [
         "48",
         "Juan Antonio Lázaro Guitart Rius"
        ],
        [
         "49",
         "Yéssica Arnal"
        ]
       ],
       "shape": {
        "columns": 1,
        "rows": 49978
       }
      },
      "text/html": [
       "<div>\n",
       "<style scoped>\n",
       "    .dataframe tbody tr th:only-of-type {\n",
       "        vertical-align: middle;\n",
       "    }\n",
       "\n",
       "    .dataframe tbody tr th {\n",
       "        vertical-align: top;\n",
       "    }\n",
       "\n",
       "    .dataframe thead th {\n",
       "        text-align: right;\n",
       "    }\n",
       "</style>\n",
       "<table border=\"1\" class=\"dataframe\">\n",
       "  <thead>\n",
       "    <tr style=\"text-align: right;\">\n",
       "      <th></th>\n",
       "      <th>nombre_personal</th>\n",
       "    </tr>\n",
       "  </thead>\n",
       "  <tbody>\n",
       "    <tr>\n",
       "      <th>0</th>\n",
       "      <td>Alberto Torralba Sierra</td>\n",
       "    </tr>\n",
       "    <tr>\n",
       "      <th>1</th>\n",
       "      <td>Joel Ángel Campillo</td>\n",
       "    </tr>\n",
       "    <tr>\n",
       "      <th>2</th>\n",
       "      <td>Julio Luján Valderrama</td>\n",
       "    </tr>\n",
       "    <tr>\n",
       "      <th>3</th>\n",
       "      <td>Amado del Piñeiro</td>\n",
       "    </tr>\n",
       "    <tr>\n",
       "      <th>4</th>\n",
       "      <td>Débora Escolano Martinez</td>\n",
       "    </tr>\n",
       "    <tr>\n",
       "      <th>...</th>\n",
       "      <td>...</td>\n",
       "    </tr>\n",
       "    <tr>\n",
       "      <th>49995</th>\n",
       "      <td>Nélida Bauzà Porras</td>\n",
       "    </tr>\n",
       "    <tr>\n",
       "      <th>49996</th>\n",
       "      <td>Régulo del Coca</td>\n",
       "    </tr>\n",
       "    <tr>\n",
       "      <th>49997</th>\n",
       "      <td>Rosalva Fuente-Herrera</td>\n",
       "    </tr>\n",
       "    <tr>\n",
       "      <th>49998</th>\n",
       "      <td>Jose Luis Reig</td>\n",
       "    </tr>\n",
       "    <tr>\n",
       "      <th>49999</th>\n",
       "      <td>Eladio Godoy Galiano</td>\n",
       "    </tr>\n",
       "  </tbody>\n",
       "</table>\n",
       "<p>49978 rows × 1 columns</p>\n",
       "</div>"
      ],
      "text/plain": [
       "                nombre_personal\n",
       "0       Alberto Torralba Sierra\n",
       "1           Joel Ángel Campillo\n",
       "2        Julio Luján Valderrama\n",
       "3             Amado del Piñeiro\n",
       "4      Débora Escolano Martinez\n",
       "...                         ...\n",
       "49995       Nélida Bauzà Porras\n",
       "49996           Régulo del Coca\n",
       "49997    Rosalva Fuente-Herrera\n",
       "49998            Jose Luis Reig\n",
       "49999      Eladio Godoy Galiano\n",
       "\n",
       "[49978 rows x 1 columns]"
      ]
     },
     "execution_count": 11,
     "metadata": {},
     "output_type": "execute_result"
    }
   ],
   "source": [
    "personal = df.personal.drop_duplicates().to_frame(name='nombre_personal')\n",
    "personal"
   ]
  },
  {
   "cell_type": "markdown",
   "id": "b0106ee1",
   "metadata": {},
   "source": [
    "#### COPIA_JUEGO"
   ]
  },
  {
   "cell_type": "code",
   "execution_count": 12,
   "id": "2041231d",
   "metadata": {},
   "outputs": [
    {
     "data": {
      "application/vnd.microsoft.datawrangler.viewer.v0+json": {
       "columns": [
        {
         "name": "index",
         "rawType": "int64",
         "type": "integer"
        },
        {
         "name": "id_juego",
         "rawType": "int64",
         "type": "integer"
        },
        {
         "name": "nombre_juego",
         "rawType": "object",
         "type": "string"
        },
        {
         "name": "coste_juego",
         "rawType": "object",
         "type": "string"
        }
       ],
       "conversionMethod": "pd.DataFrame",
       "ref": "627d4916-f2c5-49b6-a4b7-2d3ced5e4b12",
       "rows": [
        [
         "0",
         "10",
         "Scythe",
         "60"
        ],
        [
         "1",
         "8",
         "Betrayal at House on the Hill",
         "35"
        ],
        [
         "2",
         "8",
         "Catan",
         "45"
        ],
        [
         "3",
         "2",
         "Agricola",
         "55"
        ],
        [
         "4",
         "4",
         "Arkham Horror: The Card Game",
         "55"
        ],
        [
         "5",
         "9",
         "Codenames",
         "25"
        ],
        [
         "6",
         "1",
         "Memoir '44",
         "50"
        ],
        [
         "7",
         "4",
         "Pandemic",
         "50"
        ],
        [
         "8",
         "6",
         "Dominion",
         "45"
        ],
        [
         "9",
         "6",
         "Ajedrez",
         "5"
        ],
        [
         "10",
         "8",
         "Carcassonne",
         "35"
        ],
        [
         "11",
         "3",
         "Small World",
         "40"
        ],
        [
         "12",
         "1",
         "Terraforming Mars",
         "65"
        ],
        [
         "13",
         "3",
         "Dixit",
         "30"
        ],
        [
         "14",
         "5",
         "Gloomhaven",
         "70"
        ],
        [
         "15",
         "8",
         "7 Wonders",
         "40"
        ],
        [
         "16",
         "8",
         "Ticket to Ride",
         "40"
        ]
       ],
       "shape": {
        "columns": 3,
        "rows": 17
       }
      },
      "text/html": [
       "<div>\n",
       "<style scoped>\n",
       "    .dataframe tbody tr th:only-of-type {\n",
       "        vertical-align: middle;\n",
       "    }\n",
       "\n",
       "    .dataframe tbody tr th {\n",
       "        vertical-align: top;\n",
       "    }\n",
       "\n",
       "    .dataframe thead th {\n",
       "        text-align: right;\n",
       "    }\n",
       "</style>\n",
       "<table border=\"1\" class=\"dataframe\">\n",
       "  <thead>\n",
       "    <tr style=\"text-align: right;\">\n",
       "      <th></th>\n",
       "      <th>id_juego</th>\n",
       "      <th>nombre_juego</th>\n",
       "      <th>coste_juego</th>\n",
       "    </tr>\n",
       "  </thead>\n",
       "  <tbody>\n",
       "    <tr>\n",
       "      <th>0</th>\n",
       "      <td>10</td>\n",
       "      <td>Scythe</td>\n",
       "      <td>60</td>\n",
       "    </tr>\n",
       "    <tr>\n",
       "      <th>1</th>\n",
       "      <td>8</td>\n",
       "      <td>Betrayal at House on the Hill</td>\n",
       "      <td>35</td>\n",
       "    </tr>\n",
       "    <tr>\n",
       "      <th>2</th>\n",
       "      <td>8</td>\n",
       "      <td>Catan</td>\n",
       "      <td>45</td>\n",
       "    </tr>\n",
       "    <tr>\n",
       "      <th>3</th>\n",
       "      <td>2</td>\n",
       "      <td>Agricola</td>\n",
       "      <td>55</td>\n",
       "    </tr>\n",
       "    <tr>\n",
       "      <th>4</th>\n",
       "      <td>4</td>\n",
       "      <td>Arkham Horror: The Card Game</td>\n",
       "      <td>55</td>\n",
       "    </tr>\n",
       "    <tr>\n",
       "      <th>5</th>\n",
       "      <td>9</td>\n",
       "      <td>Codenames</td>\n",
       "      <td>25</td>\n",
       "    </tr>\n",
       "    <tr>\n",
       "      <th>6</th>\n",
       "      <td>1</td>\n",
       "      <td>Memoir '44</td>\n",
       "      <td>50</td>\n",
       "    </tr>\n",
       "    <tr>\n",
       "      <th>7</th>\n",
       "      <td>4</td>\n",
       "      <td>Pandemic</td>\n",
       "      <td>50</td>\n",
       "    </tr>\n",
       "    <tr>\n",
       "      <th>8</th>\n",
       "      <td>6</td>\n",
       "      <td>Dominion</td>\n",
       "      <td>45</td>\n",
       "    </tr>\n",
       "    <tr>\n",
       "      <th>9</th>\n",
       "      <td>6</td>\n",
       "      <td>Ajedrez</td>\n",
       "      <td>5</td>\n",
       "    </tr>\n",
       "    <tr>\n",
       "      <th>10</th>\n",
       "      <td>8</td>\n",
       "      <td>Carcassonne</td>\n",
       "      <td>35</td>\n",
       "    </tr>\n",
       "    <tr>\n",
       "      <th>11</th>\n",
       "      <td>3</td>\n",
       "      <td>Small World</td>\n",
       "      <td>40</td>\n",
       "    </tr>\n",
       "    <tr>\n",
       "      <th>12</th>\n",
       "      <td>1</td>\n",
       "      <td>Terraforming Mars</td>\n",
       "      <td>65</td>\n",
       "    </tr>\n",
       "    <tr>\n",
       "      <th>13</th>\n",
       "      <td>3</td>\n",
       "      <td>Dixit</td>\n",
       "      <td>30</td>\n",
       "    </tr>\n",
       "    <tr>\n",
       "      <th>14</th>\n",
       "      <td>5</td>\n",
       "      <td>Gloomhaven</td>\n",
       "      <td>70</td>\n",
       "    </tr>\n",
       "    <tr>\n",
       "      <th>15</th>\n",
       "      <td>8</td>\n",
       "      <td>7 Wonders</td>\n",
       "      <td>40</td>\n",
       "    </tr>\n",
       "    <tr>\n",
       "      <th>16</th>\n",
       "      <td>8</td>\n",
       "      <td>Ticket to Ride</td>\n",
       "      <td>40</td>\n",
       "    </tr>\n",
       "  </tbody>\n",
       "</table>\n",
       "</div>"
      ],
      "text/plain": [
       "    id_juego                   nombre_juego coste_juego\n",
       "0         10                         Scythe          60\n",
       "1          8  Betrayal at House on the Hill          35\n",
       "2          8                          Catan          45\n",
       "3          2                       Agricola          55\n",
       "4          4   Arkham Horror: The Card Game          55\n",
       "5          9                      Codenames          25\n",
       "6          1                     Memoir '44          50\n",
       "7          4                       Pandemic          50\n",
       "8          6                       Dominion          45\n",
       "9          6                        Ajedrez           5\n",
       "10         8                    Carcassonne          35\n",
       "11         3                    Small World          40\n",
       "12         1              Terraforming Mars          65\n",
       "13         3                          Dixit          30\n",
       "14         5                     Gloomhaven          70\n",
       "15         8                      7 Wonders          40\n",
       "16         8                 Ticket to Ride          40"
      ]
     },
     "execution_count": 12,
     "metadata": {},
     "output_type": "execute_result"
    }
   ],
   "source": [
    "copia_juego = df[['id_juego','nombre_juego', 'coste_juego']].drop_duplicates().reset_index(drop=True)\n",
    "copia_juego"
   ]
  },
  {
   "cell_type": "markdown",
   "id": "07daaa32",
   "metadata": {},
   "source": [
    "#### PARTIDA"
   ]
  },
  {
   "cell_type": "code",
   "execution_count": 13,
   "id": "2454f7b4",
   "metadata": {},
   "outputs": [
    {
     "data": {
      "application/vnd.microsoft.datawrangler.viewer.v0+json": {
       "columns": [
        {
         "name": "index",
         "rawType": "int64",
         "type": "integer"
        },
        {
         "name": "id_partida",
         "rawType": "int64",
         "type": "integer"
        },
        {
         "name": "id_juego",
         "rawType": "int64",
         "type": "integer"
        },
        {
         "name": "nombre_juego",
         "rawType": "object",
         "type": "string"
        }
       ],
       "conversionMethod": "pd.DataFrame",
       "ref": "c7e550d2-d91e-46e2-a946-56fe6c9aaeb7",
       "rows": [
        [
         "0",
         "1",
         "10",
         "Scythe"
        ],
        [
         "1",
         "2",
         "8",
         "Betrayal at House on the Hill"
        ],
        [
         "2",
         "3",
         "8",
         "Catan"
        ],
        [
         "3",
         "4",
         "2",
         "Agricola"
        ],
        [
         "4",
         "5",
         "4",
         "Arkham Horror: The Card Game"
        ],
        [
         "5",
         "6",
         "9",
         "Codenames"
        ],
        [
         "6",
         "7",
         "1",
         "Memoir '44"
        ],
        [
         "7",
         "8",
         "4",
         "Pandemic"
        ],
        [
         "8",
         "9",
         "6",
         "Dominion"
        ],
        [
         "9",
         "10",
         "6",
         "Ajedrez"
        ],
        [
         "10",
         "11",
         "8",
         "Catan"
        ],
        [
         "11",
         "12",
         "8",
         "Carcassonne"
        ],
        [
         "12",
         "13",
         "3",
         "Small World"
        ],
        [
         "13",
         "14",
         "1",
         "Terraforming Mars"
        ],
        [
         "14",
         "15",
         "4",
         "Arkham Horror: The Card Game"
        ],
        [
         "15",
         "16",
         "8",
         "Catan"
        ],
        [
         "16",
         "17",
         "1",
         "Memoir '44"
        ],
        [
         "17",
         "18",
         "10",
         "Scythe"
        ],
        [
         "18",
         "19",
         "8",
         "Betrayal at House on the Hill"
        ],
        [
         "19",
         "20",
         "3",
         "Dixit"
        ],
        [
         "20",
         "21",
         "4",
         "Pandemic"
        ],
        [
         "21",
         "22",
         "8",
         "Carcassonne"
        ],
        [
         "22",
         "23",
         "4",
         "Pandemic"
        ],
        [
         "23",
         "24",
         "8",
         "Catan"
        ],
        [
         "24",
         "25",
         "8",
         "Catan"
        ],
        [
         "25",
         "26",
         "4",
         "Pandemic"
        ],
        [
         "26",
         "27",
         "6",
         "Dominion"
        ],
        [
         "27",
         "28",
         "3",
         "Small World"
        ],
        [
         "28",
         "29",
         "3",
         "Dixit"
        ],
        [
         "29",
         "30",
         "3",
         "Small World"
        ],
        [
         "30",
         "31",
         "8",
         "Betrayal at House on the Hill"
        ],
        [
         "31",
         "32",
         "9",
         "Codenames"
        ],
        [
         "32",
         "33",
         "3",
         "Dixit"
        ],
        [
         "33",
         "34",
         "2",
         "Agricola"
        ],
        [
         "34",
         "35",
         "3",
         "Dixit"
        ],
        [
         "35",
         "36",
         "3",
         "Dixit"
        ],
        [
         "36",
         "37",
         "8",
         "Carcassonne"
        ],
        [
         "37",
         "38",
         "1",
         "Memoir '44"
        ],
        [
         "38",
         "39",
         "9",
         "Codenames"
        ],
        [
         "39",
         "40",
         "10",
         "Scythe"
        ],
        [
         "40",
         "41",
         "8",
         "Betrayal at House on the Hill"
        ],
        [
         "41",
         "42",
         "8",
         "Carcassonne"
        ],
        [
         "42",
         "43",
         "2",
         "Agricola"
        ],
        [
         "43",
         "44",
         "8",
         "Carcassonne"
        ],
        [
         "44",
         "45",
         "3",
         "Small World"
        ],
        [
         "45",
         "46",
         "10",
         "Scythe"
        ],
        [
         "46",
         "47",
         "6",
         "Dominion"
        ],
        [
         "47",
         "48",
         "4",
         "Arkham Horror: The Card Game"
        ],
        [
         "48",
         "49",
         "10",
         "Scythe"
        ],
        [
         "49",
         "50",
         "9",
         "Codenames"
        ]
       ],
       "shape": {
        "columns": 3,
        "rows": 50000
       }
      },
      "text/html": [
       "<div>\n",
       "<style scoped>\n",
       "    .dataframe tbody tr th:only-of-type {\n",
       "        vertical-align: middle;\n",
       "    }\n",
       "\n",
       "    .dataframe tbody tr th {\n",
       "        vertical-align: top;\n",
       "    }\n",
       "\n",
       "    .dataframe thead th {\n",
       "        text-align: right;\n",
       "    }\n",
       "</style>\n",
       "<table border=\"1\" class=\"dataframe\">\n",
       "  <thead>\n",
       "    <tr style=\"text-align: right;\">\n",
       "      <th></th>\n",
       "      <th>id_partida</th>\n",
       "      <th>id_juego</th>\n",
       "      <th>nombre_juego</th>\n",
       "    </tr>\n",
       "  </thead>\n",
       "  <tbody>\n",
       "    <tr>\n",
       "      <th>0</th>\n",
       "      <td>1</td>\n",
       "      <td>10</td>\n",
       "      <td>Scythe</td>\n",
       "    </tr>\n",
       "    <tr>\n",
       "      <th>1</th>\n",
       "      <td>2</td>\n",
       "      <td>8</td>\n",
       "      <td>Betrayal at House on the Hill</td>\n",
       "    </tr>\n",
       "    <tr>\n",
       "      <th>2</th>\n",
       "      <td>3</td>\n",
       "      <td>8</td>\n",
       "      <td>Catan</td>\n",
       "    </tr>\n",
       "    <tr>\n",
       "      <th>3</th>\n",
       "      <td>4</td>\n",
       "      <td>2</td>\n",
       "      <td>Agricola</td>\n",
       "    </tr>\n",
       "    <tr>\n",
       "      <th>4</th>\n",
       "      <td>5</td>\n",
       "      <td>4</td>\n",
       "      <td>Arkham Horror: The Card Game</td>\n",
       "    </tr>\n",
       "    <tr>\n",
       "      <th>...</th>\n",
       "      <td>...</td>\n",
       "      <td>...</td>\n",
       "      <td>...</td>\n",
       "    </tr>\n",
       "    <tr>\n",
       "      <th>49995</th>\n",
       "      <td>49996</td>\n",
       "      <td>2</td>\n",
       "      <td>Agricola</td>\n",
       "    </tr>\n",
       "    <tr>\n",
       "      <th>49996</th>\n",
       "      <td>49997</td>\n",
       "      <td>4</td>\n",
       "      <td>Pandemic</td>\n",
       "    </tr>\n",
       "    <tr>\n",
       "      <th>49997</th>\n",
       "      <td>49998</td>\n",
       "      <td>8</td>\n",
       "      <td>Ticket to Ride</td>\n",
       "    </tr>\n",
       "    <tr>\n",
       "      <th>49998</th>\n",
       "      <td>49999</td>\n",
       "      <td>1</td>\n",
       "      <td>Terraforming Mars</td>\n",
       "    </tr>\n",
       "    <tr>\n",
       "      <th>49999</th>\n",
       "      <td>50000</td>\n",
       "      <td>1</td>\n",
       "      <td>Memoir '44</td>\n",
       "    </tr>\n",
       "  </tbody>\n",
       "</table>\n",
       "<p>50000 rows × 3 columns</p>\n",
       "</div>"
      ],
      "text/plain": [
       "       id_partida  id_juego                   nombre_juego\n",
       "0               1        10                         Scythe\n",
       "1               2         8  Betrayal at House on the Hill\n",
       "2               3         8                          Catan\n",
       "3               4         2                       Agricola\n",
       "4               5         4   Arkham Horror: The Card Game\n",
       "...           ...       ...                            ...\n",
       "49995       49996         2                       Agricola\n",
       "49996       49997         4                       Pandemic\n",
       "49997       49998         8                 Ticket to Ride\n",
       "49998       49999         1              Terraforming Mars\n",
       "49999       50000         1                     Memoir '44\n",
       "\n",
       "[50000 rows x 3 columns]"
      ]
     },
     "execution_count": 13,
     "metadata": {},
     "output_type": "execute_result"
    }
   ],
   "source": [
    "partida = df[['id_partida','id_juego', 'nombre_juego']].drop_duplicates()\n",
    "partida"
   ]
  },
  {
   "cell_type": "markdown",
   "id": "7535b53b",
   "metadata": {},
   "source": [
    "#### EXPANSION"
   ]
  },
  {
   "cell_type": "code",
   "execution_count": 14,
   "id": "11a89930",
   "metadata": {},
   "outputs": [
    {
     "data": {
      "application/vnd.microsoft.datawrangler.viewer.v0+json": {
       "columns": [
        {
         "name": "index",
         "rawType": "int64",
         "type": "integer"
        },
        {
         "name": "nombre_expansion",
         "rawType": "object",
         "type": "string"
        },
        {
         "name": "nombre_juego",
         "rawType": "object",
         "type": "string"
        }
       ],
       "conversionMethod": "pd.DataFrame",
       "ref": "68fc1aa4-8b64-4034-9ad7-b305281be8c5",
       "rows": [
        [
         "0",
         "Invaders from Afar",
         "Scythe"
        ],
        [
         "1",
         "Ciudades y Caballeros",
         "Catan"
        ],
        [
         "2",
         "Navegadores",
         "Catan"
        ],
        [
         "3",
         "Imágenes",
         "Codenames"
        ],
        [
         "4",
         "Duet",
         "Codenames"
        ],
        [
         "5",
         "Campaigns",
         "Memoir '44"
        ],
        [
         "6",
         "In the Lab",
         "Pandemic"
        ],
        [
         "7",
         "Estado de Emergencia",
         "Pandemic"
        ],
        [
         "8",
         "Hinterlands",
         "Dominion"
        ],
        [
         "9",
         "Guilds",
         "Dominion"
        ],
        [
         "10",
         "Adventures",
         "Dominion"
        ],
        [
         "11",
         "Mercaderes y Bárbaros",
         "Catan"
        ],
        [
         "12",
         "Comerciantes y Constructores",
         "Carcassonne"
        ],
        [
         "13",
         "Posadas y Catedrales",
         "Carcassonne"
        ],
        [
         "14",
         "La Torre",
         "Carcassonne"
        ],
        [
         "15",
         "La Princesa y el Dragón",
         "Carcassonne"
        ],
        [
         "16",
         "Fantasy Races",
         "Small World"
        ],
        [
         "17",
         "Epic Races",
         "Small World"
        ],
        [
         "18",
         "Ancient Warriors",
         "Small World"
        ],
        [
         "19",
         "Turmoil",
         "Terraforming Mars"
        ],
        [
         "20",
         "Exploradores y Piratas",
         "Catan"
        ],
        [
         "21",
         "Fantasías",
         "Dixit"
        ],
        [
         "22",
         "Odisea",
         "Dixit"
        ],
        [
         "23",
         "Battles of the Bulge",
         "Memoir '44"
        ],
        [
         "24",
         "Widow's Walk",
         "Betrayal at House on the Hill"
        ],
        [
         "25",
         "Seaside",
         "Dominion"
        ],
        [
         "26",
         "Prosperity",
         "Dominion"
        ],
        [
         "27",
         "Dark Ages",
         "Dominion"
        ],
        [
         "28",
         "Intriga",
         "Dominion"
        ],
        [
         "29",
         "Empires",
         "Dominion"
        ],
        [
         "30",
         "The Path to Carcosa",
         "Arkham Horror: The Card Game"
        ],
        [
         "31",
         "The Dunwich Legacy",
         "Arkham Horror: The Card Game"
        ],
        [
         "32",
         "Forgotten Circles",
         "Gloomhaven"
        ],
        [
         "33",
         "The Circle Undone",
         "Arkham Horror: The Card Game"
        ],
        [
         "34",
         "The Forgotten Age",
         "Arkham Horror: The Card Game"
        ],
        [
         "35",
         "Venus Next",
         "Terraforming Mars"
        ],
        [
         "36",
         "Hellas & Elysium",
         "Terraforming Mars"
        ],
        [
         "37",
         "Prelude",
         "Terraforming Mars"
        ],
        [
         "38",
         "Líderes",
         "7 Wonders"
        ],
        [
         "39",
         "Ciudades",
         "7 Wonders"
        ],
        [
         "40",
         "Armada",
         "7 Wonders"
        ],
        [
         "41",
         "Farmers of the Moor",
         "Agricola"
        ],
        [
         "42",
         "Modo Blitz",
         "Ajedrez"
        ],
        [
         "43",
         "Edición Limitada",
         "Ajedrez"
        ],
        [
         "44",
         "On the Brink",
         "Pandemic"
        ],
        [
         "45",
         "Colonies",
         "Terraforming Mars"
        ],
        [
         "46",
         "Asia",
         "Ticket to Ride"
        ],
        [
         "47",
         "Nórdicos",
         "Ticket to Ride"
        ],
        [
         "48",
         "Europa",
         "Ticket to Ride"
        ],
        [
         "49",
         "India",
         "Ticket to Ride"
        ]
       ],
       "shape": {
        "columns": 2,
        "rows": 52
       }
      },
      "text/html": [
       "<div>\n",
       "<style scoped>\n",
       "    .dataframe tbody tr th:only-of-type {\n",
       "        vertical-align: middle;\n",
       "    }\n",
       "\n",
       "    .dataframe tbody tr th {\n",
       "        vertical-align: top;\n",
       "    }\n",
       "\n",
       "    .dataframe thead th {\n",
       "        text-align: right;\n",
       "    }\n",
       "</style>\n",
       "<table border=\"1\" class=\"dataframe\">\n",
       "  <thead>\n",
       "    <tr style=\"text-align: right;\">\n",
       "      <th></th>\n",
       "      <th>nombre_expansion</th>\n",
       "      <th>nombre_juego</th>\n",
       "    </tr>\n",
       "  </thead>\n",
       "  <tbody>\n",
       "    <tr>\n",
       "      <th>0</th>\n",
       "      <td>Invaders from Afar</td>\n",
       "      <td>Scythe</td>\n",
       "    </tr>\n",
       "    <tr>\n",
       "      <th>1</th>\n",
       "      <td>Ciudades y Caballeros</td>\n",
       "      <td>Catan</td>\n",
       "    </tr>\n",
       "    <tr>\n",
       "      <th>2</th>\n",
       "      <td>Navegadores</td>\n",
       "      <td>Catan</td>\n",
       "    </tr>\n",
       "    <tr>\n",
       "      <th>3</th>\n",
       "      <td>Imágenes</td>\n",
       "      <td>Codenames</td>\n",
       "    </tr>\n",
       "    <tr>\n",
       "      <th>4</th>\n",
       "      <td>Duet</td>\n",
       "      <td>Codenames</td>\n",
       "    </tr>\n",
       "    <tr>\n",
       "      <th>5</th>\n",
       "      <td>Campaigns</td>\n",
       "      <td>Memoir '44</td>\n",
       "    </tr>\n",
       "    <tr>\n",
       "      <th>6</th>\n",
       "      <td>In the Lab</td>\n",
       "      <td>Pandemic</td>\n",
       "    </tr>\n",
       "    <tr>\n",
       "      <th>7</th>\n",
       "      <td>Estado de Emergencia</td>\n",
       "      <td>Pandemic</td>\n",
       "    </tr>\n",
       "    <tr>\n",
       "      <th>8</th>\n",
       "      <td>Hinterlands</td>\n",
       "      <td>Dominion</td>\n",
       "    </tr>\n",
       "    <tr>\n",
       "      <th>9</th>\n",
       "      <td>Guilds</td>\n",
       "      <td>Dominion</td>\n",
       "    </tr>\n",
       "    <tr>\n",
       "      <th>10</th>\n",
       "      <td>Adventures</td>\n",
       "      <td>Dominion</td>\n",
       "    </tr>\n",
       "    <tr>\n",
       "      <th>11</th>\n",
       "      <td>Mercaderes y Bárbaros</td>\n",
       "      <td>Catan</td>\n",
       "    </tr>\n",
       "    <tr>\n",
       "      <th>12</th>\n",
       "      <td>Comerciantes y Constructores</td>\n",
       "      <td>Carcassonne</td>\n",
       "    </tr>\n",
       "    <tr>\n",
       "      <th>13</th>\n",
       "      <td>Posadas y Catedrales</td>\n",
       "      <td>Carcassonne</td>\n",
       "    </tr>\n",
       "    <tr>\n",
       "      <th>14</th>\n",
       "      <td>La Torre</td>\n",
       "      <td>Carcassonne</td>\n",
       "    </tr>\n",
       "    <tr>\n",
       "      <th>15</th>\n",
       "      <td>La Princesa y el Dragón</td>\n",
       "      <td>Carcassonne</td>\n",
       "    </tr>\n",
       "    <tr>\n",
       "      <th>16</th>\n",
       "      <td>Fantasy Races</td>\n",
       "      <td>Small World</td>\n",
       "    </tr>\n",
       "    <tr>\n",
       "      <th>17</th>\n",
       "      <td>Epic Races</td>\n",
       "      <td>Small World</td>\n",
       "    </tr>\n",
       "    <tr>\n",
       "      <th>18</th>\n",
       "      <td>Ancient Warriors</td>\n",
       "      <td>Small World</td>\n",
       "    </tr>\n",
       "    <tr>\n",
       "      <th>19</th>\n",
       "      <td>Turmoil</td>\n",
       "      <td>Terraforming Mars</td>\n",
       "    </tr>\n",
       "    <tr>\n",
       "      <th>20</th>\n",
       "      <td>Exploradores y Piratas</td>\n",
       "      <td>Catan</td>\n",
       "    </tr>\n",
       "    <tr>\n",
       "      <th>21</th>\n",
       "      <td>Fantasías</td>\n",
       "      <td>Dixit</td>\n",
       "    </tr>\n",
       "    <tr>\n",
       "      <th>22</th>\n",
       "      <td>Odisea</td>\n",
       "      <td>Dixit</td>\n",
       "    </tr>\n",
       "    <tr>\n",
       "      <th>23</th>\n",
       "      <td>Battles of the Bulge</td>\n",
       "      <td>Memoir '44</td>\n",
       "    </tr>\n",
       "    <tr>\n",
       "      <th>24</th>\n",
       "      <td>Widow's Walk</td>\n",
       "      <td>Betrayal at House on the Hill</td>\n",
       "    </tr>\n",
       "    <tr>\n",
       "      <th>25</th>\n",
       "      <td>Seaside</td>\n",
       "      <td>Dominion</td>\n",
       "    </tr>\n",
       "    <tr>\n",
       "      <th>26</th>\n",
       "      <td>Prosperity</td>\n",
       "      <td>Dominion</td>\n",
       "    </tr>\n",
       "    <tr>\n",
       "      <th>27</th>\n",
       "      <td>Dark Ages</td>\n",
       "      <td>Dominion</td>\n",
       "    </tr>\n",
       "    <tr>\n",
       "      <th>28</th>\n",
       "      <td>Intriga</td>\n",
       "      <td>Dominion</td>\n",
       "    </tr>\n",
       "    <tr>\n",
       "      <th>29</th>\n",
       "      <td>Empires</td>\n",
       "      <td>Dominion</td>\n",
       "    </tr>\n",
       "    <tr>\n",
       "      <th>30</th>\n",
       "      <td>The Path to Carcosa</td>\n",
       "      <td>Arkham Horror: The Card Game</td>\n",
       "    </tr>\n",
       "    <tr>\n",
       "      <th>31</th>\n",
       "      <td>The Dunwich Legacy</td>\n",
       "      <td>Arkham Horror: The Card Game</td>\n",
       "    </tr>\n",
       "    <tr>\n",
       "      <th>32</th>\n",
       "      <td>Forgotten Circles</td>\n",
       "      <td>Gloomhaven</td>\n",
       "    </tr>\n",
       "    <tr>\n",
       "      <th>33</th>\n",
       "      <td>The Circle Undone</td>\n",
       "      <td>Arkham Horror: The Card Game</td>\n",
       "    </tr>\n",
       "    <tr>\n",
       "      <th>34</th>\n",
       "      <td>The Forgotten Age</td>\n",
       "      <td>Arkham Horror: The Card Game</td>\n",
       "    </tr>\n",
       "    <tr>\n",
       "      <th>35</th>\n",
       "      <td>Venus Next</td>\n",
       "      <td>Terraforming Mars</td>\n",
       "    </tr>\n",
       "    <tr>\n",
       "      <th>36</th>\n",
       "      <td>Hellas &amp; Elysium</td>\n",
       "      <td>Terraforming Mars</td>\n",
       "    </tr>\n",
       "    <tr>\n",
       "      <th>37</th>\n",
       "      <td>Prelude</td>\n",
       "      <td>Terraforming Mars</td>\n",
       "    </tr>\n",
       "    <tr>\n",
       "      <th>38</th>\n",
       "      <td>Líderes</td>\n",
       "      <td>7 Wonders</td>\n",
       "    </tr>\n",
       "    <tr>\n",
       "      <th>39</th>\n",
       "      <td>Ciudades</td>\n",
       "      <td>7 Wonders</td>\n",
       "    </tr>\n",
       "    <tr>\n",
       "      <th>40</th>\n",
       "      <td>Armada</td>\n",
       "      <td>7 Wonders</td>\n",
       "    </tr>\n",
       "    <tr>\n",
       "      <th>41</th>\n",
       "      <td>Farmers of the Moor</td>\n",
       "      <td>Agricola</td>\n",
       "    </tr>\n",
       "    <tr>\n",
       "      <th>42</th>\n",
       "      <td>Modo Blitz</td>\n",
       "      <td>Ajedrez</td>\n",
       "    </tr>\n",
       "    <tr>\n",
       "      <th>43</th>\n",
       "      <td>Edición Limitada</td>\n",
       "      <td>Ajedrez</td>\n",
       "    </tr>\n",
       "    <tr>\n",
       "      <th>44</th>\n",
       "      <td>On the Brink</td>\n",
       "      <td>Pandemic</td>\n",
       "    </tr>\n",
       "    <tr>\n",
       "      <th>45</th>\n",
       "      <td>Colonies</td>\n",
       "      <td>Terraforming Mars</td>\n",
       "    </tr>\n",
       "    <tr>\n",
       "      <th>46</th>\n",
       "      <td>Asia</td>\n",
       "      <td>Ticket to Ride</td>\n",
       "    </tr>\n",
       "    <tr>\n",
       "      <th>47</th>\n",
       "      <td>Nórdicos</td>\n",
       "      <td>Ticket to Ride</td>\n",
       "    </tr>\n",
       "    <tr>\n",
       "      <th>48</th>\n",
       "      <td>Europa</td>\n",
       "      <td>Ticket to Ride</td>\n",
       "    </tr>\n",
       "    <tr>\n",
       "      <th>49</th>\n",
       "      <td>India</td>\n",
       "      <td>Ticket to Ride</td>\n",
       "    </tr>\n",
       "    <tr>\n",
       "      <th>50</th>\n",
       "      <td>América del Sur</td>\n",
       "      <td>Ticket to Ride</td>\n",
       "    </tr>\n",
       "    <tr>\n",
       "      <th>51</th>\n",
       "      <td>Revelaciones</td>\n",
       "      <td>Dixit</td>\n",
       "    </tr>\n",
       "  </tbody>\n",
       "</table>\n",
       "</div>"
      ],
      "text/plain": [
       "                nombre_expansion                   nombre_juego\n",
       "0             Invaders from Afar                         Scythe\n",
       "1          Ciudades y Caballeros                          Catan\n",
       "2                    Navegadores                          Catan\n",
       "3                       Imágenes                      Codenames\n",
       "4                           Duet                      Codenames\n",
       "5                      Campaigns                     Memoir '44\n",
       "6                     In the Lab                       Pandemic\n",
       "7           Estado de Emergencia                       Pandemic\n",
       "8                    Hinterlands                       Dominion\n",
       "9                         Guilds                       Dominion\n",
       "10                    Adventures                       Dominion\n",
       "11         Mercaderes y Bárbaros                          Catan\n",
       "12  Comerciantes y Constructores                    Carcassonne\n",
       "13          Posadas y Catedrales                    Carcassonne\n",
       "14                      La Torre                    Carcassonne\n",
       "15       La Princesa y el Dragón                    Carcassonne\n",
       "16                 Fantasy Races                    Small World\n",
       "17                    Epic Races                    Small World\n",
       "18              Ancient Warriors                    Small World\n",
       "19                       Turmoil              Terraforming Mars\n",
       "20        Exploradores y Piratas                          Catan\n",
       "21                     Fantasías                          Dixit\n",
       "22                        Odisea                          Dixit\n",
       "23          Battles of the Bulge                     Memoir '44\n",
       "24                  Widow's Walk  Betrayal at House on the Hill\n",
       "25                       Seaside                       Dominion\n",
       "26                    Prosperity                       Dominion\n",
       "27                     Dark Ages                       Dominion\n",
       "28                       Intriga                       Dominion\n",
       "29                       Empires                       Dominion\n",
       "30           The Path to Carcosa   Arkham Horror: The Card Game\n",
       "31            The Dunwich Legacy   Arkham Horror: The Card Game\n",
       "32             Forgotten Circles                     Gloomhaven\n",
       "33             The Circle Undone   Arkham Horror: The Card Game\n",
       "34             The Forgotten Age   Arkham Horror: The Card Game\n",
       "35                    Venus Next              Terraforming Mars\n",
       "36              Hellas & Elysium              Terraforming Mars\n",
       "37                       Prelude              Terraforming Mars\n",
       "38                       Líderes                      7 Wonders\n",
       "39                      Ciudades                      7 Wonders\n",
       "40                        Armada                      7 Wonders\n",
       "41           Farmers of the Moor                       Agricola\n",
       "42                    Modo Blitz                        Ajedrez\n",
       "43              Edición Limitada                        Ajedrez\n",
       "44                  On the Brink                       Pandemic\n",
       "45                      Colonies              Terraforming Mars\n",
       "46                          Asia                 Ticket to Ride\n",
       "47                      Nórdicos                 Ticket to Ride\n",
       "48                        Europa                 Ticket to Ride\n",
       "49                         India                 Ticket to Ride\n",
       "50               América del Sur                 Ticket to Ride\n",
       "51                  Revelaciones                          Dixit"
      ]
     },
     "execution_count": 14,
     "metadata": {},
     "output_type": "execute_result"
    }
   ],
   "source": [
    "expansion = df[['nombre_expansion','nombre_juego']].drop_duplicates().dropna().reset_index(drop=True)\n",
    "expansion"
   ]
  },
  {
   "cell_type": "markdown",
   "id": "5bf1e908",
   "metadata": {},
   "source": [
    "#### COPIA_EXPANSION"
   ]
  },
  {
   "cell_type": "code",
   "execution_count": 15,
   "id": "f2b666e5",
   "metadata": {},
   "outputs": [
    {
     "data": {
      "application/vnd.microsoft.datawrangler.viewer.v0+json": {
       "columns": [
        {
         "name": "index",
         "rawType": "int64",
         "type": "integer"
        },
        {
         "name": "id_expansion",
         "rawType": "object",
         "type": "string"
        },
        {
         "name": "nombre_expansion",
         "rawType": "object",
         "type": "string"
        },
        {
         "name": "coste_expansion",
         "rawType": "object",
         "type": "string"
        }
       ],
       "conversionMethod": "pd.DataFrame",
       "ref": "f73d9163-6271-425a-91c0-8b41cf6aa0ac",
       "rows": [
        [
         "0",
         "4",
         "Invaders from Afar",
         "30"
        ],
        [
         "1",
         "9",
         "Ciudades y Caballeros",
         "30"
        ],
        [
         "2",
         "8",
         "Navegadores",
         "25"
        ],
        [
         "3",
         "8",
         "Imágenes",
         "13"
        ],
        [
         "4",
         "3",
         "Duet",
         "12"
        ],
        [
         "5",
         "3",
         "Campaigns",
         "18"
        ],
        [
         "6",
         "10",
         "In the Lab",
         "25"
        ],
        [
         "7",
         "7",
         "Estado de Emergencia",
         "27"
        ],
        [
         "8",
         "3",
         "Hinterlands",
         "17"
        ],
        [
         "9",
         "8",
         "Guilds",
         "19"
        ],
        [
         "10",
         "4",
         "Adventures",
         "21"
        ],
        [
         "11",
         "8",
         "Mercaderes y Bárbaros",
         "28"
        ],
        [
         "12",
         "8",
         "Comerciantes y Constructores",
         "22"
        ],
        [
         "13",
         "7",
         "Posadas y Catedrales",
         "20"
        ],
        [
         "14",
         "9",
         "La Torre",
         "16"
        ],
        [
         "15",
         "3",
         "La Princesa y el Dragón",
         "18"
        ],
        [
         "16",
         "2",
         "Fantasy Races",
         "16"
        ],
        [
         "17",
         "1",
         "Epic Races",
         "17"
        ],
        [
         "18",
         "9",
         "Ancient Warriors",
         "15"
        ],
        [
         "19",
         "6",
         "Turmoil",
         "23"
        ],
        [
         "20",
         "10",
         "Exploradores y Piratas",
         "27"
        ],
        [
         "21",
         "4",
         "Fantasías",
         "16"
        ],
        [
         "22",
         "3",
         "Odisea",
         "15"
        ],
        [
         "23",
         "3",
         "Battles of the Bulge",
         "20"
        ],
        [
         "24",
         "5",
         "Widow's Walk",
         "15"
        ],
        [
         "25",
         "5",
         "Seaside",
         "16"
        ],
        [
         "26",
         "9",
         "Prosperity",
         "18"
        ],
        [
         "27",
         "4",
         "Dark Ages",
         "20"
        ],
        [
         "28",
         "7",
         "Intriga",
         "15"
        ],
        [
         "29",
         "1",
         "Empires",
         "22"
        ],
        [
         "30",
         "10",
         "The Path to Carcosa",
         "28"
        ],
        [
         "31",
         "5",
         "The Dunwich Legacy",
         "30"
        ],
        [
         "32",
         "7",
         "Forgotten Circles",
         "35"
        ],
        [
         "33",
         "1",
         "The Circle Undone",
         "29"
        ],
        [
         "34",
         "10",
         "The Forgotten Age",
         "32"
        ],
        [
         "35",
         "10",
         "Venus Next",
         "25"
        ],
        [
         "36",
         "2",
         "Hellas & Elysium",
         "22"
        ],
        [
         "37",
         "2",
         "Prelude",
         "20"
        ],
        [
         "38",
         "5",
         "Líderes",
         "19"
        ],
        [
         "39",
         "1",
         "Ciudades",
         "18"
        ],
        [
         "40",
         "2",
         "Armada",
         "17"
        ],
        [
         "41",
         "4",
         "Farmers of the Moor",
         "28"
        ],
        [
         "42",
         "1",
         "Modo Blitz",
         "2095"
        ],
        [
         "43",
         "6",
         "Edición Limitada",
         "9999"
        ],
        [
         "44",
         "10",
         "On the Brink",
         "26"
        ],
        [
         "45",
         "9",
         "Colonies",
         "24"
        ],
        [
         "46",
         "4",
         "Asia",
         "24"
        ],
        [
         "47",
         "7",
         "Nórdicos",
         "20"
        ],
        [
         "48",
         "3",
         "Europa",
         "23"
        ],
        [
         "49",
         "7",
         "India",
         "21"
        ]
       ],
       "shape": {
        "columns": 3,
        "rows": 52
       }
      },
      "text/html": [
       "<div>\n",
       "<style scoped>\n",
       "    .dataframe tbody tr th:only-of-type {\n",
       "        vertical-align: middle;\n",
       "    }\n",
       "\n",
       "    .dataframe tbody tr th {\n",
       "        vertical-align: top;\n",
       "    }\n",
       "\n",
       "    .dataframe thead th {\n",
       "        text-align: right;\n",
       "    }\n",
       "</style>\n",
       "<table border=\"1\" class=\"dataframe\">\n",
       "  <thead>\n",
       "    <tr style=\"text-align: right;\">\n",
       "      <th></th>\n",
       "      <th>id_expansion</th>\n",
       "      <th>nombre_expansion</th>\n",
       "      <th>coste_expansion</th>\n",
       "    </tr>\n",
       "  </thead>\n",
       "  <tbody>\n",
       "    <tr>\n",
       "      <th>0</th>\n",
       "      <td>4</td>\n",
       "      <td>Invaders from Afar</td>\n",
       "      <td>30</td>\n",
       "    </tr>\n",
       "    <tr>\n",
       "      <th>1</th>\n",
       "      <td>9</td>\n",
       "      <td>Ciudades y Caballeros</td>\n",
       "      <td>30</td>\n",
       "    </tr>\n",
       "    <tr>\n",
       "      <th>2</th>\n",
       "      <td>8</td>\n",
       "      <td>Navegadores</td>\n",
       "      <td>25</td>\n",
       "    </tr>\n",
       "    <tr>\n",
       "      <th>3</th>\n",
       "      <td>8</td>\n",
       "      <td>Imágenes</td>\n",
       "      <td>13</td>\n",
       "    </tr>\n",
       "    <tr>\n",
       "      <th>4</th>\n",
       "      <td>3</td>\n",
       "      <td>Duet</td>\n",
       "      <td>12</td>\n",
       "    </tr>\n",
       "    <tr>\n",
       "      <th>5</th>\n",
       "      <td>3</td>\n",
       "      <td>Campaigns</td>\n",
       "      <td>18</td>\n",
       "    </tr>\n",
       "    <tr>\n",
       "      <th>6</th>\n",
       "      <td>10</td>\n",
       "      <td>In the Lab</td>\n",
       "      <td>25</td>\n",
       "    </tr>\n",
       "    <tr>\n",
       "      <th>7</th>\n",
       "      <td>7</td>\n",
       "      <td>Estado de Emergencia</td>\n",
       "      <td>27</td>\n",
       "    </tr>\n",
       "    <tr>\n",
       "      <th>8</th>\n",
       "      <td>3</td>\n",
       "      <td>Hinterlands</td>\n",
       "      <td>17</td>\n",
       "    </tr>\n",
       "    <tr>\n",
       "      <th>9</th>\n",
       "      <td>8</td>\n",
       "      <td>Guilds</td>\n",
       "      <td>19</td>\n",
       "    </tr>\n",
       "    <tr>\n",
       "      <th>10</th>\n",
       "      <td>4</td>\n",
       "      <td>Adventures</td>\n",
       "      <td>21</td>\n",
       "    </tr>\n",
       "    <tr>\n",
       "      <th>11</th>\n",
       "      <td>8</td>\n",
       "      <td>Mercaderes y Bárbaros</td>\n",
       "      <td>28</td>\n",
       "    </tr>\n",
       "    <tr>\n",
       "      <th>12</th>\n",
       "      <td>8</td>\n",
       "      <td>Comerciantes y Constructores</td>\n",
       "      <td>22</td>\n",
       "    </tr>\n",
       "    <tr>\n",
       "      <th>13</th>\n",
       "      <td>7</td>\n",
       "      <td>Posadas y Catedrales</td>\n",
       "      <td>20</td>\n",
       "    </tr>\n",
       "    <tr>\n",
       "      <th>14</th>\n",
       "      <td>9</td>\n",
       "      <td>La Torre</td>\n",
       "      <td>16</td>\n",
       "    </tr>\n",
       "    <tr>\n",
       "      <th>15</th>\n",
       "      <td>3</td>\n",
       "      <td>La Princesa y el Dragón</td>\n",
       "      <td>18</td>\n",
       "    </tr>\n",
       "    <tr>\n",
       "      <th>16</th>\n",
       "      <td>2</td>\n",
       "      <td>Fantasy Races</td>\n",
       "      <td>16</td>\n",
       "    </tr>\n",
       "    <tr>\n",
       "      <th>17</th>\n",
       "      <td>1</td>\n",
       "      <td>Epic Races</td>\n",
       "      <td>17</td>\n",
       "    </tr>\n",
       "    <tr>\n",
       "      <th>18</th>\n",
       "      <td>9</td>\n",
       "      <td>Ancient Warriors</td>\n",
       "      <td>15</td>\n",
       "    </tr>\n",
       "    <tr>\n",
       "      <th>19</th>\n",
       "      <td>6</td>\n",
       "      <td>Turmoil</td>\n",
       "      <td>23</td>\n",
       "    </tr>\n",
       "    <tr>\n",
       "      <th>20</th>\n",
       "      <td>10</td>\n",
       "      <td>Exploradores y Piratas</td>\n",
       "      <td>27</td>\n",
       "    </tr>\n",
       "    <tr>\n",
       "      <th>21</th>\n",
       "      <td>4</td>\n",
       "      <td>Fantasías</td>\n",
       "      <td>16</td>\n",
       "    </tr>\n",
       "    <tr>\n",
       "      <th>22</th>\n",
       "      <td>3</td>\n",
       "      <td>Odisea</td>\n",
       "      <td>15</td>\n",
       "    </tr>\n",
       "    <tr>\n",
       "      <th>23</th>\n",
       "      <td>3</td>\n",
       "      <td>Battles of the Bulge</td>\n",
       "      <td>20</td>\n",
       "    </tr>\n",
       "    <tr>\n",
       "      <th>24</th>\n",
       "      <td>5</td>\n",
       "      <td>Widow's Walk</td>\n",
       "      <td>15</td>\n",
       "    </tr>\n",
       "    <tr>\n",
       "      <th>25</th>\n",
       "      <td>5</td>\n",
       "      <td>Seaside</td>\n",
       "      <td>16</td>\n",
       "    </tr>\n",
       "    <tr>\n",
       "      <th>26</th>\n",
       "      <td>9</td>\n",
       "      <td>Prosperity</td>\n",
       "      <td>18</td>\n",
       "    </tr>\n",
       "    <tr>\n",
       "      <th>27</th>\n",
       "      <td>4</td>\n",
       "      <td>Dark Ages</td>\n",
       "      <td>20</td>\n",
       "    </tr>\n",
       "    <tr>\n",
       "      <th>28</th>\n",
       "      <td>7</td>\n",
       "      <td>Intriga</td>\n",
       "      <td>15</td>\n",
       "    </tr>\n",
       "    <tr>\n",
       "      <th>29</th>\n",
       "      <td>1</td>\n",
       "      <td>Empires</td>\n",
       "      <td>22</td>\n",
       "    </tr>\n",
       "    <tr>\n",
       "      <th>30</th>\n",
       "      <td>10</td>\n",
       "      <td>The Path to Carcosa</td>\n",
       "      <td>28</td>\n",
       "    </tr>\n",
       "    <tr>\n",
       "      <th>31</th>\n",
       "      <td>5</td>\n",
       "      <td>The Dunwich Legacy</td>\n",
       "      <td>30</td>\n",
       "    </tr>\n",
       "    <tr>\n",
       "      <th>32</th>\n",
       "      <td>7</td>\n",
       "      <td>Forgotten Circles</td>\n",
       "      <td>35</td>\n",
       "    </tr>\n",
       "    <tr>\n",
       "      <th>33</th>\n",
       "      <td>1</td>\n",
       "      <td>The Circle Undone</td>\n",
       "      <td>29</td>\n",
       "    </tr>\n",
       "    <tr>\n",
       "      <th>34</th>\n",
       "      <td>10</td>\n",
       "      <td>The Forgotten Age</td>\n",
       "      <td>32</td>\n",
       "    </tr>\n",
       "    <tr>\n",
       "      <th>35</th>\n",
       "      <td>10</td>\n",
       "      <td>Venus Next</td>\n",
       "      <td>25</td>\n",
       "    </tr>\n",
       "    <tr>\n",
       "      <th>36</th>\n",
       "      <td>2</td>\n",
       "      <td>Hellas &amp; Elysium</td>\n",
       "      <td>22</td>\n",
       "    </tr>\n",
       "    <tr>\n",
       "      <th>37</th>\n",
       "      <td>2</td>\n",
       "      <td>Prelude</td>\n",
       "      <td>20</td>\n",
       "    </tr>\n",
       "    <tr>\n",
       "      <th>38</th>\n",
       "      <td>5</td>\n",
       "      <td>Líderes</td>\n",
       "      <td>19</td>\n",
       "    </tr>\n",
       "    <tr>\n",
       "      <th>39</th>\n",
       "      <td>1</td>\n",
       "      <td>Ciudades</td>\n",
       "      <td>18</td>\n",
       "    </tr>\n",
       "    <tr>\n",
       "      <th>40</th>\n",
       "      <td>2</td>\n",
       "      <td>Armada</td>\n",
       "      <td>17</td>\n",
       "    </tr>\n",
       "    <tr>\n",
       "      <th>41</th>\n",
       "      <td>4</td>\n",
       "      <td>Farmers of the Moor</td>\n",
       "      <td>28</td>\n",
       "    </tr>\n",
       "    <tr>\n",
       "      <th>42</th>\n",
       "      <td>1</td>\n",
       "      <td>Modo Blitz</td>\n",
       "      <td>2095</td>\n",
       "    </tr>\n",
       "    <tr>\n",
       "      <th>43</th>\n",
       "      <td>6</td>\n",
       "      <td>Edición Limitada</td>\n",
       "      <td>9999</td>\n",
       "    </tr>\n",
       "    <tr>\n",
       "      <th>44</th>\n",
       "      <td>10</td>\n",
       "      <td>On the Brink</td>\n",
       "      <td>26</td>\n",
       "    </tr>\n",
       "    <tr>\n",
       "      <th>45</th>\n",
       "      <td>9</td>\n",
       "      <td>Colonies</td>\n",
       "      <td>24</td>\n",
       "    </tr>\n",
       "    <tr>\n",
       "      <th>46</th>\n",
       "      <td>4</td>\n",
       "      <td>Asia</td>\n",
       "      <td>24</td>\n",
       "    </tr>\n",
       "    <tr>\n",
       "      <th>47</th>\n",
       "      <td>7</td>\n",
       "      <td>Nórdicos</td>\n",
       "      <td>20</td>\n",
       "    </tr>\n",
       "    <tr>\n",
       "      <th>48</th>\n",
       "      <td>3</td>\n",
       "      <td>Europa</td>\n",
       "      <td>23</td>\n",
       "    </tr>\n",
       "    <tr>\n",
       "      <th>49</th>\n",
       "      <td>7</td>\n",
       "      <td>India</td>\n",
       "      <td>21</td>\n",
       "    </tr>\n",
       "    <tr>\n",
       "      <th>50</th>\n",
       "      <td>3</td>\n",
       "      <td>América del Sur</td>\n",
       "      <td>22</td>\n",
       "    </tr>\n",
       "    <tr>\n",
       "      <th>51</th>\n",
       "      <td>7</td>\n",
       "      <td>Revelaciones</td>\n",
       "      <td>14</td>\n",
       "    </tr>\n",
       "  </tbody>\n",
       "</table>\n",
       "</div>"
      ],
      "text/plain": [
       "   id_expansion              nombre_expansion coste_expansion\n",
       "0             4            Invaders from Afar              30\n",
       "1             9         Ciudades y Caballeros              30\n",
       "2             8                   Navegadores              25\n",
       "3             8                      Imágenes              13\n",
       "4             3                          Duet              12\n",
       "5             3                     Campaigns              18\n",
       "6            10                    In the Lab              25\n",
       "7             7          Estado de Emergencia              27\n",
       "8             3                   Hinterlands              17\n",
       "9             8                        Guilds              19\n",
       "10            4                    Adventures              21\n",
       "11            8         Mercaderes y Bárbaros              28\n",
       "12            8  Comerciantes y Constructores              22\n",
       "13            7          Posadas y Catedrales              20\n",
       "14            9                      La Torre              16\n",
       "15            3       La Princesa y el Dragón              18\n",
       "16            2                 Fantasy Races              16\n",
       "17            1                    Epic Races              17\n",
       "18            9              Ancient Warriors              15\n",
       "19            6                       Turmoil              23\n",
       "20           10        Exploradores y Piratas              27\n",
       "21            4                     Fantasías              16\n",
       "22            3                        Odisea              15\n",
       "23            3          Battles of the Bulge              20\n",
       "24            5                  Widow's Walk              15\n",
       "25            5                       Seaside              16\n",
       "26            9                    Prosperity              18\n",
       "27            4                     Dark Ages              20\n",
       "28            7                       Intriga              15\n",
       "29            1                       Empires              22\n",
       "30           10           The Path to Carcosa              28\n",
       "31            5            The Dunwich Legacy              30\n",
       "32            7             Forgotten Circles              35\n",
       "33            1             The Circle Undone              29\n",
       "34           10             The Forgotten Age              32\n",
       "35           10                    Venus Next              25\n",
       "36            2              Hellas & Elysium              22\n",
       "37            2                       Prelude              20\n",
       "38            5                       Líderes              19\n",
       "39            1                      Ciudades              18\n",
       "40            2                        Armada              17\n",
       "41            4           Farmers of the Moor              28\n",
       "42            1                    Modo Blitz            2095\n",
       "43            6              Edición Limitada            9999\n",
       "44           10                  On the Brink              26\n",
       "45            9                      Colonies              24\n",
       "46            4                          Asia              24\n",
       "47            7                      Nórdicos              20\n",
       "48            3                        Europa              23\n",
       "49            7                         India              21\n",
       "50            3               América del Sur              22\n",
       "51            7                  Revelaciones              14"
      ]
     },
     "execution_count": 15,
     "metadata": {},
     "output_type": "execute_result"
    }
   ],
   "source": [
    "copia_expansion = df[['id_expansion', 'nombre_expansion', 'coste_expansion']].drop_duplicates().dropna().reset_index(drop=True)\n",
    "copia_expansion"
   ]
  },
  {
   "cell_type": "markdown",
   "id": "46b711d5",
   "metadata": {},
   "source": [
    "#### UTILIZA_EXPANSION"
   ]
  },
  {
   "cell_type": "code",
   "execution_count": 16,
   "id": "9cd8c7f6",
   "metadata": {},
   "outputs": [
    {
     "data": {
      "application/vnd.microsoft.datawrangler.viewer.v0+json": {
       "columns": [
        {
         "name": "index",
         "rawType": "int64",
         "type": "integer"
        },
        {
         "name": "id_partida",
         "rawType": "int64",
         "type": "integer"
        },
        {
         "name": "id_expansion",
         "rawType": "object",
         "type": "string"
        },
        {
         "name": "nombre_expansion",
         "rawType": "object",
         "type": "string"
        }
       ],
       "conversionMethod": "pd.DataFrame",
       "ref": "f3ea8ddc-c40a-496d-9731-4e53af759c68",
       "rows": [
        [
         "0",
         "1",
         "4",
         "Invaders from Afar"
        ],
        [
         "2",
         "3",
         "9",
         "Ciudades y Caballeros"
        ],
        [
         "2",
         "3",
         "8",
         "Navegadores"
        ],
        [
         "5",
         "6",
         "8",
         "Imágenes"
        ],
        [
         "5",
         "6",
         "3",
         "Duet"
        ],
        [
         "6",
         "7",
         "3",
         "Campaigns"
        ],
        [
         "7",
         "8",
         "10",
         "In the Lab"
        ],
        [
         "7",
         "8",
         "7",
         "Estado de Emergencia"
        ],
        [
         "8",
         "9",
         "3",
         "Hinterlands"
        ],
        [
         "8",
         "9",
         "8",
         "Guilds"
        ],
        [
         "8",
         "9",
         "4",
         "Adventures"
        ],
        [
         "10",
         "11",
         "8",
         "Mercaderes y Bárbaros"
        ],
        [
         "10",
         "11",
         "8",
         "Navegadores"
        ],
        [
         "11",
         "12",
         "8",
         "Comerciantes y Constructores"
        ],
        [
         "11",
         "12",
         "7",
         "Posadas y Catedrales"
        ],
        [
         "11",
         "12",
         "9",
         "La Torre"
        ],
        [
         "11",
         "12",
         "3",
         "La Princesa y el Dragón"
        ],
        [
         "12",
         "13",
         "2",
         "Fantasy Races"
        ],
        [
         "12",
         "13",
         "1",
         "Epic Races"
        ],
        [
         "12",
         "13",
         "9",
         "Ancient Warriors"
        ],
        [
         "13",
         "14",
         "6",
         "Turmoil"
        ],
        [
         "15",
         "16",
         "8",
         "Navegadores"
        ],
        [
         "15",
         "16",
         "8",
         "Mercaderes y Bárbaros"
        ],
        [
         "21",
         "22",
         "3",
         "La Princesa y el Dragón"
        ],
        [
         "21",
         "22",
         "7",
         "Posadas y Catedrales"
        ],
        [
         "21",
         "22",
         "8",
         "Comerciantes y Constructores"
        ],
        [
         "23",
         "24",
         "8",
         "Mercaderes y Bárbaros"
        ],
        [
         "23",
         "24",
         "10",
         "Exploradores y Piratas"
        ],
        [
         "23",
         "24",
         "8",
         "Navegadores"
        ],
        [
         "31",
         "32",
         "8",
         "Imágenes"
        ],
        [
         "31",
         "32",
         "3",
         "Duet"
        ],
        [
         "35",
         "36",
         "4",
         "Fantasías"
        ],
        [
         "35",
         "36",
         "3",
         "Odisea"
        ],
        [
         "36",
         "37",
         "8",
         "Comerciantes y Constructores"
        ],
        [
         "36",
         "37",
         "3",
         "La Princesa y el Dragón"
        ],
        [
         "37",
         "38",
         "3",
         "Battles of the Bulge"
        ],
        [
         "40",
         "41",
         "5",
         "Widow's Walk"
        ],
        [
         "41",
         "42",
         "7",
         "Posadas y Catedrales"
        ],
        [
         "41",
         "42",
         "3",
         "La Princesa y el Dragón"
        ],
        [
         "43",
         "44",
         "7",
         "Posadas y Catedrales"
        ],
        [
         "43",
         "44",
         "8",
         "Comerciantes y Constructores"
        ],
        [
         "43",
         "44",
         "9",
         "La Torre"
        ],
        [
         "43",
         "44",
         "3",
         "La Princesa y el Dragón"
        ],
        [
         "46",
         "47",
         "5",
         "Seaside"
        ],
        [
         "46",
         "47",
         "9",
         "Prosperity"
        ],
        [
         "46",
         "47",
         "3",
         "Hinterlands"
        ],
        [
         "46",
         "47",
         "4",
         "Dark Ages"
        ],
        [
         "46",
         "47",
         "7",
         "Intriga"
        ],
        [
         "46",
         "47",
         "8",
         "Guilds"
        ],
        [
         "46",
         "47",
         "1",
         "Empires"
        ]
       ],
       "shape": {
        "columns": 3,
        "rows": 50994
       }
      },
      "text/html": [
       "<div>\n",
       "<style scoped>\n",
       "    .dataframe tbody tr th:only-of-type {\n",
       "        vertical-align: middle;\n",
       "    }\n",
       "\n",
       "    .dataframe tbody tr th {\n",
       "        vertical-align: top;\n",
       "    }\n",
       "\n",
       "    .dataframe thead th {\n",
       "        text-align: right;\n",
       "    }\n",
       "</style>\n",
       "<table border=\"1\" class=\"dataframe\">\n",
       "  <thead>\n",
       "    <tr style=\"text-align: right;\">\n",
       "      <th></th>\n",
       "      <th>id_partida</th>\n",
       "      <th>id_expansion</th>\n",
       "      <th>nombre_expansion</th>\n",
       "    </tr>\n",
       "  </thead>\n",
       "  <tbody>\n",
       "    <tr>\n",
       "      <th>0</th>\n",
       "      <td>1</td>\n",
       "      <td>4</td>\n",
       "      <td>Invaders from Afar</td>\n",
       "    </tr>\n",
       "    <tr>\n",
       "      <th>2</th>\n",
       "      <td>3</td>\n",
       "      <td>9</td>\n",
       "      <td>Ciudades y Caballeros</td>\n",
       "    </tr>\n",
       "    <tr>\n",
       "      <th>2</th>\n",
       "      <td>3</td>\n",
       "      <td>8</td>\n",
       "      <td>Navegadores</td>\n",
       "    </tr>\n",
       "    <tr>\n",
       "      <th>5</th>\n",
       "      <td>6</td>\n",
       "      <td>8</td>\n",
       "      <td>Imágenes</td>\n",
       "    </tr>\n",
       "    <tr>\n",
       "      <th>5</th>\n",
       "      <td>6</td>\n",
       "      <td>3</td>\n",
       "      <td>Duet</td>\n",
       "    </tr>\n",
       "    <tr>\n",
       "      <th>...</th>\n",
       "      <td>...</td>\n",
       "      <td>...</td>\n",
       "      <td>...</td>\n",
       "    </tr>\n",
       "    <tr>\n",
       "      <th>49987</th>\n",
       "      <td>49988</td>\n",
       "      <td>6</td>\n",
       "      <td>Turmoil</td>\n",
       "    </tr>\n",
       "    <tr>\n",
       "      <th>49991</th>\n",
       "      <td>49992</td>\n",
       "      <td>10</td>\n",
       "      <td>In the Lab</td>\n",
       "    </tr>\n",
       "    <tr>\n",
       "      <th>49991</th>\n",
       "      <td>49992</td>\n",
       "      <td>10</td>\n",
       "      <td>On the Brink</td>\n",
       "    </tr>\n",
       "    <tr>\n",
       "      <th>49995</th>\n",
       "      <td>49996</td>\n",
       "      <td>4</td>\n",
       "      <td>Farmers of the Moor</td>\n",
       "    </tr>\n",
       "    <tr>\n",
       "      <th>49996</th>\n",
       "      <td>49997</td>\n",
       "      <td>10</td>\n",
       "      <td>In the Lab</td>\n",
       "    </tr>\n",
       "  </tbody>\n",
       "</table>\n",
       "<p>50994 rows × 3 columns</p>\n",
       "</div>"
      ],
      "text/plain": [
       "       id_partida id_expansion       nombre_expansion\n",
       "0               1            4     Invaders from Afar\n",
       "2               3            9  Ciudades y Caballeros\n",
       "2               3            8            Navegadores\n",
       "5               6            8               Imágenes\n",
       "5               6            3                   Duet\n",
       "...           ...          ...                    ...\n",
       "49987       49988            6                Turmoil\n",
       "49991       49992           10             In the Lab\n",
       "49991       49992           10           On the Brink\n",
       "49995       49996            4    Farmers of the Moor\n",
       "49996       49997           10             In the Lab\n",
       "\n",
       "[50994 rows x 3 columns]"
      ]
     },
     "execution_count": 16,
     "metadata": {},
     "output_type": "execute_result"
    }
   ],
   "source": [
    "utiliza_expansion = df[['id_partida','id_expansion','nombre_expansion']].drop_duplicates().dropna()\n",
    "utiliza_expansion"
   ]
  },
  {
   "cell_type": "markdown",
   "id": "75444f9e",
   "metadata": {},
   "source": [
    "#### JUEGA"
   ]
  },
  {
   "cell_type": "code",
   "execution_count": 17,
   "id": "76e73fcc",
   "metadata": {},
   "outputs": [
    {
     "data": {
      "application/vnd.microsoft.datawrangler.viewer.v0+json": {
       "columns": [
        {
         "name": "index",
         "rawType": "int64",
         "type": "integer"
        },
        {
         "name": "nombre_jugador",
         "rawType": "object",
         "type": "string"
        },
        {
         "name": "id_partida",
         "rawType": "int64",
         "type": "integer"
        }
       ],
       "conversionMethod": "pd.DataFrame",
       "ref": "28fc85c3-5daf-41ca-9c3b-08d013d768c5",
       "rows": [
        [
         "0",
         "Melisa de Barrera",
         "1"
        ],
        [
         "0",
         "Toño Arroyo Vilalta",
         "1"
        ],
        [
         "0",
         "María Del Carmen Caballero Caparrós",
         "1"
        ],
        [
         "0",
         "Ariadna Calvo",
         "1"
        ],
        [
         "0",
         "Moisés Álamo-Llano",
         "1"
        ],
        [
         "0",
         "Jose Ignacio del Angulo",
         "1"
        ],
        [
         "1",
         "Nieves Zapata Cáceres",
         "2"
        ],
        [
         "1",
         "Matilde Palomares Vargas",
         "2"
        ],
        [
         "1",
         "Bernabé Conde Tudela",
         "2"
        ],
        [
         "1",
         "René Valentín Catalá",
         "2"
        ],
        [
         "2",
         "Itziar Martín Tomas",
         "3"
        ],
        [
         "2",
         "Elisa Franch Abad",
         "3"
        ],
        [
         "2",
         "Haroldo Saez-Blanca",
         "3"
        ],
        [
         "3",
         "Flora Díaz Soler",
         "4"
        ],
        [
         "3",
         "Juan Manuel Oller Palomo",
         "4"
        ],
        [
         "3",
         "Esther Consuelo Salcedo Polo",
         "4"
        ],
        [
         "3",
         "Omar Aller Quintanilla",
         "4"
        ],
        [
         "3",
         "Dani Noguera Aragonés",
         "4"
        ],
        [
         "4",
         "Bernabé Bayona Requena",
         "5"
        ],
        [
         "4",
         "Adriana Cazorla Nicolau",
         "5"
        ],
        [
         "4",
         "Jenny Montes Coca",
         "5"
        ],
        [
         "4",
         "Alonso Victor Anaya Borrell",
         "5"
        ],
        [
         "5",
         "Maribel Figuerola",
         "6"
        ],
        [
         "5",
         "Adela de Perea",
         "6"
        ],
        [
         "6",
         "Rosalía Diez-Calvo",
         "7"
        ],
        [
         "6",
         "Leocadia Salvà",
         "7"
        ],
        [
         "6",
         "Adora Julián Cerdán",
         "7"
        ],
        [
         "6",
         "Gil del Navarrete",
         "7"
        ],
        [
         "6",
         "Dominga Peña Cárdenas",
         "7"
        ],
        [
         "6",
         "Toni Onofre Galván Feliu",
         "7"
        ],
        [
         "7",
         "Joel Almagro Gomila",
         "8"
        ],
        [
         "7",
         "Emperatriz Ferrando Guijarro",
         "8"
        ],
        [
         "7",
         "Cándida Montoya Blanch",
         "8"
        ],
        [
         "7",
         "Ceferino Antúnez",
         "8"
        ],
        [
         "7",
         "Palmira Navas Lumbreras",
         "8"
        ],
        [
         "7",
         "Octavio Goñi-Catalán",
         "8"
        ],
        [
         "8",
         "Ismael Torrecilla Cruz",
         "9"
        ],
        [
         "8",
         "Micaela Conde",
         "9"
        ],
        [
         "9",
         "Heraclio Sierra Esparza",
         "10"
        ],
        [
         "9",
         "Anna Caparrós Juan",
         "10"
        ],
        [
         "9",
         "Clotilde de Murcia",
         "10"
        ],
        [
         "9",
         "Vinicio Alfaro Rios",
         "10"
        ],
        [
         "9",
         "Dan Álvaro Moll",
         "10"
        ],
        [
         "10",
         "Nidia Gutierrez-Arcos",
         "11"
        ],
        [
         "10",
         "Édgar Solís Neira",
         "11"
        ],
        [
         "11",
         "Omar Fuertes",
         "12"
        ],
        [
         "11",
         "Cosme Solana Echeverría",
         "12"
        ],
        [
         "11",
         "Adelardo Florentino Simó Vendrell",
         "12"
        ],
        [
         "11",
         "Ximena Rocamora Torrijos",
         "12"
        ],
        [
         "12",
         "Joaquín Tomás-Verdejo",
         "13"
        ]
       ],
       "shape": {
        "columns": 2,
        "rows": 200017
       }
      },
      "text/html": [
       "<div>\n",
       "<style scoped>\n",
       "    .dataframe tbody tr th:only-of-type {\n",
       "        vertical-align: middle;\n",
       "    }\n",
       "\n",
       "    .dataframe tbody tr th {\n",
       "        vertical-align: top;\n",
       "    }\n",
       "\n",
       "    .dataframe thead th {\n",
       "        text-align: right;\n",
       "    }\n",
       "</style>\n",
       "<table border=\"1\" class=\"dataframe\">\n",
       "  <thead>\n",
       "    <tr style=\"text-align: right;\">\n",
       "      <th></th>\n",
       "      <th>nombre_jugador</th>\n",
       "      <th>id_partida</th>\n",
       "    </tr>\n",
       "  </thead>\n",
       "  <tbody>\n",
       "    <tr>\n",
       "      <th>0</th>\n",
       "      <td>Melisa de Barrera</td>\n",
       "      <td>1</td>\n",
       "    </tr>\n",
       "    <tr>\n",
       "      <th>0</th>\n",
       "      <td>Toño Arroyo Vilalta</td>\n",
       "      <td>1</td>\n",
       "    </tr>\n",
       "    <tr>\n",
       "      <th>0</th>\n",
       "      <td>María Del Carmen Caballero Caparrós</td>\n",
       "      <td>1</td>\n",
       "    </tr>\n",
       "    <tr>\n",
       "      <th>0</th>\n",
       "      <td>Ariadna Calvo</td>\n",
       "      <td>1</td>\n",
       "    </tr>\n",
       "    <tr>\n",
       "      <th>0</th>\n",
       "      <td>Moisés Álamo-Llano</td>\n",
       "      <td>1</td>\n",
       "    </tr>\n",
       "    <tr>\n",
       "      <th>...</th>\n",
       "      <td>...</td>\n",
       "      <td>...</td>\n",
       "    </tr>\n",
       "    <tr>\n",
       "      <th>49999</th>\n",
       "      <td>Cesar Escribano Adán</td>\n",
       "      <td>50000</td>\n",
       "    </tr>\n",
       "    <tr>\n",
       "      <th>49999</th>\n",
       "      <td>Rubén Conesa Arcos</td>\n",
       "      <td>50000</td>\n",
       "    </tr>\n",
       "    <tr>\n",
       "      <th>49999</th>\n",
       "      <td>Jennifer Bello Casares</td>\n",
       "      <td>50000</td>\n",
       "    </tr>\n",
       "    <tr>\n",
       "      <th>49999</th>\n",
       "      <td>Jacinta Castilla Amaya</td>\n",
       "      <td>50000</td>\n",
       "    </tr>\n",
       "    <tr>\n",
       "      <th>49999</th>\n",
       "      <td>Amalia Serafina Vicente Aller</td>\n",
       "      <td>50000</td>\n",
       "    </tr>\n",
       "  </tbody>\n",
       "</table>\n",
       "<p>200017 rows × 2 columns</p>\n",
       "</div>"
      ],
      "text/plain": [
       "                            nombre_jugador  id_partida\n",
       "0                        Melisa de Barrera           1\n",
       "0                      Toño Arroyo Vilalta           1\n",
       "0      María Del Carmen Caballero Caparrós           1\n",
       "0                            Ariadna Calvo           1\n",
       "0                       Moisés Álamo-Llano           1\n",
       "...                                    ...         ...\n",
       "49999                 Cesar Escribano Adán       50000\n",
       "49999                   Rubén Conesa Arcos       50000\n",
       "49999               Jennifer Bello Casares       50000\n",
       "49999               Jacinta Castilla Amaya       50000\n",
       "49999        Amalia Serafina Vicente Aller       50000\n",
       "\n",
       "[200017 rows x 2 columns]"
      ]
     },
     "execution_count": 17,
     "metadata": {},
     "output_type": "execute_result"
    }
   ],
   "source": [
    "juega = df[['nombre_jugador','id_partida']].drop_duplicates()\n",
    "juega"
   ]
  },
  {
   "cell_type": "markdown",
   "id": "8003fea1",
   "metadata": {},
   "source": [
    "#### GANA"
   ]
  },
  {
   "cell_type": "code",
   "execution_count": 18,
   "id": "86b497c0",
   "metadata": {},
   "outputs": [
    {
     "data": {
      "application/vnd.microsoft.datawrangler.viewer.v0+json": {
       "columns": [
        {
         "name": "index",
         "rawType": "int64",
         "type": "integer"
        },
        {
         "name": "resultado",
         "rawType": "object",
         "type": "string"
        },
        {
         "name": "id_partida",
         "rawType": "int64",
         "type": "integer"
        }
       ],
       "conversionMethod": "pd.DataFrame",
       "ref": "82407aa6-ce5b-4da5-88ff-052252b6336b",
       "rows": [
        [
         "0",
         "María Del Carmen Caballero Caparrós",
         "1"
        ],
        [
         "1",
         "René Valentín Catalá",
         "2"
        ],
        [
         "2",
         "Haroldo Saez-Blanca",
         "3"
        ],
        [
         "3",
         "Juan Manuel Oller Palomo",
         "4"
        ],
        [
         "4",
         "Alonso Victor Anaya Borrell",
         "5"
        ],
        [
         "5",
         "Adela de Perea",
         "6"
        ],
        [
         "6",
         "Rosalía Diez-Calvo",
         "7"
        ],
        [
         "7",
         "Cándida Montoya Blanch",
         "8"
        ],
        [
         "8",
         "Ismael Torrecilla Cruz",
         "9"
        ],
        [
         "9",
         "Dan Álvaro Moll",
         "10"
        ],
        [
         "10",
         "Édgar Solís Neira",
         "11"
        ],
        [
         "11",
         "Omar Fuertes",
         "12"
        ],
        [
         "12",
         "Jose Manuel Zorrilla Vila",
         "13"
        ],
        [
         "13",
         "Albina Antúnez Pacheco",
         "14"
        ],
        [
         "14",
         "Alberto Talavera Taboada",
         "15"
        ],
        [
         "15",
         "Manuela Izaguirre Checa",
         "16"
        ],
        [
         "16",
         "Pánfilo Olivares-Osuna",
         "17"
        ],
        [
         "17",
         "Evaristo Batlle Pareja",
         "18"
        ],
        [
         "18",
         "Óscar Coronado Cardona",
         "19"
        ],
        [
         "19",
         "Elías Villena Quesada",
         "20"
        ],
        [
         "20",
         "Patricia Acevedo Rojas",
         "21"
        ],
        [
         "21",
         "Xiomara Codina Beltran",
         "22"
        ],
        [
         "22",
         "Bienvenida Sarita Sebastián Garrido",
         "23"
        ],
        [
         "23",
         "Ximena Caparrós Martínez",
         "24"
        ],
        [
         "24",
         "Gastón Quintana Llobet",
         "25"
        ],
        [
         "25",
         "Adelardo Benavent Escamilla",
         "26"
        ],
        [
         "26",
         "Olimpia Borja Arce",
         "27"
        ],
        [
         "27",
         "Teo Saavedra Iborra",
         "28"
        ],
        [
         "28",
         "Plinio Nicanor Gibert Belmonte",
         "29"
        ],
        [
         "29",
         "Vasco Gallego Mármol",
         "30"
        ],
        [
         "30",
         "Carmen Serrano-Gomila",
         "31"
        ],
        [
         "31",
         "Atilio Ramos Bolaños",
         "32"
        ],
        [
         "32",
         "Poncio Jose Carlos Fabregat Cases",
         "33"
        ],
        [
         "33",
         "Ruben del Pagès",
         "34"
        ],
        [
         "34",
         "Íngrid Ojeda Gomez",
         "35"
        ],
        [
         "35",
         "Lope Cañizares Molins",
         "36"
        ],
        [
         "36",
         "Ceferino Matas Luque",
         "37"
        ],
        [
         "37",
         "Manu Bou Llamas",
         "38"
        ],
        [
         "38",
         "Sandra Casanova Porras",
         "39"
        ],
        [
         "39",
         "Clotilde Bárcena",
         "40"
        ],
        [
         "40",
         "Bernabé Fiol Ponce",
         "41"
        ],
        [
         "41",
         "Anselmo Ricart Palomares",
         "42"
        ],
        [
         "42",
         "Herminia Guiomar Rodrigo Echeverría",
         "43"
        ],
        [
         "43",
         "Nicodemo Riera Blanco",
         "44"
        ],
        [
         "44",
         "Isabela Laguna Gual",
         "45"
        ],
        [
         "45",
         "Josué Vergara Mateo",
         "46"
        ],
        [
         "46",
         "Anastasia de Guardia",
         "47"
        ],
        [
         "47",
         "Oriana Bueno",
         "48"
        ],
        [
         "48",
         "Caridad Romero",
         "49"
        ],
        [
         "49",
         "Gil Jover Riera",
         "50"
        ]
       ],
       "shape": {
        "columns": 2,
        "rows": 50000
       }
      },
      "text/html": [
       "<div>\n",
       "<style scoped>\n",
       "    .dataframe tbody tr th:only-of-type {\n",
       "        vertical-align: middle;\n",
       "    }\n",
       "\n",
       "    .dataframe tbody tr th {\n",
       "        vertical-align: top;\n",
       "    }\n",
       "\n",
       "    .dataframe thead th {\n",
       "        text-align: right;\n",
       "    }\n",
       "</style>\n",
       "<table border=\"1\" class=\"dataframe\">\n",
       "  <thead>\n",
       "    <tr style=\"text-align: right;\">\n",
       "      <th></th>\n",
       "      <th>resultado</th>\n",
       "      <th>id_partida</th>\n",
       "    </tr>\n",
       "  </thead>\n",
       "  <tbody>\n",
       "    <tr>\n",
       "      <th>0</th>\n",
       "      <td>María Del Carmen Caballero Caparrós</td>\n",
       "      <td>1</td>\n",
       "    </tr>\n",
       "    <tr>\n",
       "      <th>1</th>\n",
       "      <td>René Valentín Catalá</td>\n",
       "      <td>2</td>\n",
       "    </tr>\n",
       "    <tr>\n",
       "      <th>2</th>\n",
       "      <td>Haroldo Saez-Blanca</td>\n",
       "      <td>3</td>\n",
       "    </tr>\n",
       "    <tr>\n",
       "      <th>3</th>\n",
       "      <td>Juan Manuel Oller Palomo</td>\n",
       "      <td>4</td>\n",
       "    </tr>\n",
       "    <tr>\n",
       "      <th>4</th>\n",
       "      <td>Alonso Victor Anaya Borrell</td>\n",
       "      <td>5</td>\n",
       "    </tr>\n",
       "    <tr>\n",
       "      <th>...</th>\n",
       "      <td>...</td>\n",
       "      <td>...</td>\n",
       "    </tr>\n",
       "    <tr>\n",
       "      <th>49995</th>\n",
       "      <td>Íñigo Badía Talavera</td>\n",
       "      <td>49996</td>\n",
       "    </tr>\n",
       "    <tr>\n",
       "      <th>49996</th>\n",
       "      <td>Gerónimo Expósito Carreras</td>\n",
       "      <td>49997</td>\n",
       "    </tr>\n",
       "    <tr>\n",
       "      <th>49997</th>\n",
       "      <td>Alondra Lara Llamas</td>\n",
       "      <td>49998</td>\n",
       "    </tr>\n",
       "    <tr>\n",
       "      <th>49998</th>\n",
       "      <td>Gertrudis de Manrique</td>\n",
       "      <td>49999</td>\n",
       "    </tr>\n",
       "    <tr>\n",
       "      <th>49999</th>\n",
       "      <td>Jennifer Bello Casares</td>\n",
       "      <td>50000</td>\n",
       "    </tr>\n",
       "  </tbody>\n",
       "</table>\n",
       "<p>50000 rows × 2 columns</p>\n",
       "</div>"
      ],
      "text/plain": [
       "                                 resultado  id_partida\n",
       "0      María Del Carmen Caballero Caparrós           1\n",
       "1                     René Valentín Catalá           2\n",
       "2                      Haroldo Saez-Blanca           3\n",
       "3                 Juan Manuel Oller Palomo           4\n",
       "4              Alonso Victor Anaya Borrell           5\n",
       "...                                    ...         ...\n",
       "49995                 Íñigo Badía Talavera       49996\n",
       "49996           Gerónimo Expósito Carreras       49997\n",
       "49997                  Alondra Lara Llamas       49998\n",
       "49998                Gertrudis de Manrique       49999\n",
       "49999               Jennifer Bello Casares       50000\n",
       "\n",
       "[50000 rows x 2 columns]"
      ]
     },
     "execution_count": 18,
     "metadata": {},
     "output_type": "execute_result"
    }
   ],
   "source": [
    "gana = df[['resultado','id_partida']].drop_duplicates()\n",
    "gana"
   ]
  },
  {
   "cell_type": "markdown",
   "id": "40d1f8a6",
   "metadata": {},
   "source": [
    "#### ORGANIZA"
   ]
  },
  {
   "cell_type": "code",
   "execution_count": 19,
   "id": "b556bc06",
   "metadata": {},
   "outputs": [],
   "source": [
    "organiza = df[['personal','id_partida', 'fecha','hora']].drop_duplicates()\n",
    "organiza = df[['personal','id_partida', 'fecha','hora']].drop_duplicates()\n",
    "organiza['hora'] = pd.to_datetime(organiza['hora'], format='%H:%M').dt.time\n"
   ]
  },
  {
   "cell_type": "code",
   "execution_count": 20,
   "id": "2fb2dfb8",
   "metadata": {},
   "outputs": [
    {
     "data": {
      "application/vnd.microsoft.datawrangler.viewer.v0+json": {
       "columns": [
        {
         "name": "index",
         "rawType": "int64",
         "type": "integer"
        },
        {
         "name": "personal",
         "rawType": "object",
         "type": "string"
        },
        {
         "name": "id_partida",
         "rawType": "int64",
         "type": "integer"
        },
        {
         "name": "fecha",
         "rawType": "datetime64[ns]",
         "type": "datetime"
        },
        {
         "name": "hora",
         "rawType": "object",
         "type": "unknown"
        }
       ],
       "conversionMethod": "pd.DataFrame",
       "ref": "2815a561-4307-41d2-8cb3-bb51ea04ec3c",
       "rows": [
        [
         "0",
         "Alberto Torralba Sierra",
         "1",
         "2021-08-24 00:00:00",
         "14:44:00"
        ],
        [
         "1",
         "Joel Ángel Campillo",
         "2",
         "2023-07-02 00:00:00",
         "18:43:00"
        ],
        [
         "2",
         "Julio Luján Valderrama",
         "3",
         "2021-04-06 00:00:00",
         "14:46:00"
        ],
        [
         "3",
         "Amado del Piñeiro",
         "4",
         "2020-10-02 00:00:00",
         "02:20:00"
        ],
        [
         "4",
         "Débora Escolano Martinez",
         "5",
         "2024-01-30 00:00:00",
         "14:09:00"
        ],
        [
         "5",
         "Edgardo Huguet Jover",
         "6",
         "2020-11-23 00:00:00",
         "19:32:00"
        ],
        [
         "6",
         "Evita Poza Roca",
         "7",
         "2022-09-25 00:00:00",
         "17:17:00"
        ],
        [
         "7",
         "Melchor Cuéllar Bravo",
         "8",
         "2020-09-23 00:00:00",
         "10:59:00"
        ],
        [
         "8",
         "Elvira Prada Sastre",
         "9",
         "2024-06-28 00:00:00",
         "23:48:00"
        ],
        [
         "9",
         "Águeda Nogués Arteaga",
         "10",
         "2021-07-23 00:00:00",
         "10:51:00"
        ],
        [
         "10",
         "Leoncio Campo-Bravo",
         "11",
         "2020-12-08 00:00:00",
         "07:56:00"
        ],
        [
         "11",
         "Haroldo Bou Benito",
         "12",
         "2021-10-25 00:00:00",
         "02:18:00"
        ],
        [
         "12",
         "Tiburcio Noguera-Reina",
         "13",
         "2021-04-25 00:00:00",
         "17:26:00"
        ],
        [
         "13",
         "Alma Marti Corominas",
         "14",
         "2020-02-10 00:00:00",
         "01:32:00"
        ],
        [
         "14",
         "Cándido Nuñez Larrañaga",
         "15",
         "2021-05-15 00:00:00",
         "19:02:00"
        ],
        [
         "15",
         "Cesar Barbero",
         "16",
         "2023-06-05 00:00:00",
         "23:49:00"
        ],
        [
         "16",
         "Odalis de Ureña",
         "17",
         "2022-08-04 00:00:00",
         "23:14:00"
        ],
        [
         "17",
         "Gerónimo Sigfrido Pera Bustamante",
         "18",
         "2022-07-07 00:00:00",
         "10:42:00"
        ],
        [
         "18",
         "Victoria Miró Simó",
         "19",
         "2021-12-16 00:00:00",
         "22:16:00"
        ],
        [
         "19",
         "Micaela Arce",
         "20",
         "2021-12-01 00:00:00",
         "19:17:00"
        ],
        [
         "20",
         "María Cristina Vidal",
         "21",
         "2023-09-17 00:00:00",
         "08:19:00"
        ],
        [
         "21",
         "Mar Tejada-Casanovas",
         "22",
         "2020-04-11 00:00:00",
         "19:59:00"
        ],
        [
         "22",
         "Yaiza González",
         "23",
         "2021-06-24 00:00:00",
         "15:40:00"
        ],
        [
         "23",
         "Isidoro Riera Acosta",
         "24",
         "2021-08-21 00:00:00",
         "07:09:00"
        ],
        [
         "24",
         "Salvador Goicoechea Ruano",
         "25",
         "2020-02-15 00:00:00",
         "16:43:00"
        ],
        [
         "25",
         "Candelario de Alberdi",
         "26",
         "2024-12-20 00:00:00",
         "20:05:00"
        ],
        [
         "26",
         "Yaiza Nogueira Redondo",
         "27",
         "2023-01-12 00:00:00",
         "08:01:00"
        ],
        [
         "27",
         "Lucila del Milla",
         "28",
         "2023-09-21 00:00:00",
         "07:44:00"
        ],
        [
         "28",
         "Adelaida Vilma Vara Bernal",
         "29",
         "2023-07-16 00:00:00",
         "07:16:00"
        ],
        [
         "29",
         "Berto de Olivé",
         "30",
         "2023-04-10 00:00:00",
         "12:35:00"
        ],
        [
         "30",
         "Nadia Lupe Valencia Carmona",
         "31",
         "2024-09-08 00:00:00",
         "12:43:00"
        ],
        [
         "31",
         "Susana Rico-Llorente",
         "32",
         "2021-05-19 00:00:00",
         "16:35:00"
        ],
        [
         "32",
         "Rocío Merino Amor",
         "33",
         "2021-08-12 00:00:00",
         "08:10:00"
        ],
        [
         "33",
         "María Cristina Bauzà Piña",
         "34",
         "2020-04-04 00:00:00",
         "02:19:00"
        ],
        [
         "34",
         "Flora Blanca Atienza",
         "35",
         "2021-06-11 00:00:00",
         "07:06:00"
        ],
        [
         "35",
         "Calisto Morata Ribes",
         "36",
         "2023-02-06 00:00:00",
         "23:27:00"
        ],
        [
         "36",
         "Onofre Linares-Higueras",
         "37",
         "2024-09-15 00:00:00",
         "12:34:00"
        ],
        [
         "37",
         "Sergio Gracia-Pedraza",
         "38",
         "2023-07-12 00:00:00",
         "17:00:00"
        ],
        [
         "38",
         "Juan Luis Cardona Moraleda",
         "39",
         "2021-08-27 00:00:00",
         "04:50:00"
        ],
        [
         "39",
         "María Guadalupe Sotelo Leon",
         "40",
         "2020-01-30 00:00:00",
         "00:26:00"
        ],
        [
         "40",
         "Pepito Ripoll Vendrell",
         "41",
         "2020-04-17 00:00:00",
         "07:09:00"
        ],
        [
         "41",
         "Elías Pizarro Rosales",
         "42",
         "2024-10-24 00:00:00",
         "18:40:00"
        ],
        [
         "42",
         "Ángeles Carrillo Castell",
         "43",
         "2024-02-15 00:00:00",
         "23:29:00"
        ],
        [
         "43",
         "Andrés Felipe Gutierrez Bermudez",
         "44",
         "2024-07-26 00:00:00",
         "01:11:00"
        ],
        [
         "44",
         "José Luis Lucas",
         "45",
         "2022-06-08 00:00:00",
         "09:27:00"
        ],
        [
         "45",
         "Visitación Niño",
         "46",
         "2022-05-13 00:00:00",
         "14:52:00"
        ],
        [
         "46",
         "Trinidad Mínguez Llano",
         "47",
         "2022-04-02 00:00:00",
         "17:13:00"
        ],
        [
         "47",
         "Rodrigo Aroca-Cordero",
         "48",
         "2020-03-08 00:00:00",
         "05:07:00"
        ],
        [
         "48",
         "Juan Antonio Lázaro Guitart Rius",
         "49",
         "2024-09-01 00:00:00",
         "18:35:00"
        ],
        [
         "49",
         "Yéssica Arnal",
         "50",
         "2024-02-01 00:00:00",
         "04:29:00"
        ]
       ],
       "shape": {
        "columns": 4,
        "rows": 50000
       }
      },
      "text/html": [
       "<div>\n",
       "<style scoped>\n",
       "    .dataframe tbody tr th:only-of-type {\n",
       "        vertical-align: middle;\n",
       "    }\n",
       "\n",
       "    .dataframe tbody tr th {\n",
       "        vertical-align: top;\n",
       "    }\n",
       "\n",
       "    .dataframe thead th {\n",
       "        text-align: right;\n",
       "    }\n",
       "</style>\n",
       "<table border=\"1\" class=\"dataframe\">\n",
       "  <thead>\n",
       "    <tr style=\"text-align: right;\">\n",
       "      <th></th>\n",
       "      <th>personal</th>\n",
       "      <th>id_partida</th>\n",
       "      <th>fecha</th>\n",
       "      <th>hora</th>\n",
       "    </tr>\n",
       "  </thead>\n",
       "  <tbody>\n",
       "    <tr>\n",
       "      <th>0</th>\n",
       "      <td>Alberto Torralba Sierra</td>\n",
       "      <td>1</td>\n",
       "      <td>2021-08-24</td>\n",
       "      <td>14:44:00</td>\n",
       "    </tr>\n",
       "    <tr>\n",
       "      <th>1</th>\n",
       "      <td>Joel Ángel Campillo</td>\n",
       "      <td>2</td>\n",
       "      <td>2023-07-02</td>\n",
       "      <td>18:43:00</td>\n",
       "    </tr>\n",
       "    <tr>\n",
       "      <th>2</th>\n",
       "      <td>Julio Luján Valderrama</td>\n",
       "      <td>3</td>\n",
       "      <td>2021-04-06</td>\n",
       "      <td>14:46:00</td>\n",
       "    </tr>\n",
       "    <tr>\n",
       "      <th>3</th>\n",
       "      <td>Amado del Piñeiro</td>\n",
       "      <td>4</td>\n",
       "      <td>2020-10-02</td>\n",
       "      <td>02:20:00</td>\n",
       "    </tr>\n",
       "    <tr>\n",
       "      <th>4</th>\n",
       "      <td>Débora Escolano Martinez</td>\n",
       "      <td>5</td>\n",
       "      <td>2024-01-30</td>\n",
       "      <td>14:09:00</td>\n",
       "    </tr>\n",
       "    <tr>\n",
       "      <th>...</th>\n",
       "      <td>...</td>\n",
       "      <td>...</td>\n",
       "      <td>...</td>\n",
       "      <td>...</td>\n",
       "    </tr>\n",
       "    <tr>\n",
       "      <th>49995</th>\n",
       "      <td>Nélida Bauzà Porras</td>\n",
       "      <td>49996</td>\n",
       "      <td>2022-02-19</td>\n",
       "      <td>14:25:00</td>\n",
       "    </tr>\n",
       "    <tr>\n",
       "      <th>49996</th>\n",
       "      <td>Régulo del Coca</td>\n",
       "      <td>49997</td>\n",
       "      <td>2024-10-15</td>\n",
       "      <td>05:18:00</td>\n",
       "    </tr>\n",
       "    <tr>\n",
       "      <th>49997</th>\n",
       "      <td>Rosalva Fuente-Herrera</td>\n",
       "      <td>49998</td>\n",
       "      <td>2024-09-16</td>\n",
       "      <td>13:36:00</td>\n",
       "    </tr>\n",
       "    <tr>\n",
       "      <th>49998</th>\n",
       "      <td>Jose Luis Reig</td>\n",
       "      <td>49999</td>\n",
       "      <td>2020-05-02</td>\n",
       "      <td>08:48:00</td>\n",
       "    </tr>\n",
       "    <tr>\n",
       "      <th>49999</th>\n",
       "      <td>Eladio Godoy Galiano</td>\n",
       "      <td>50000</td>\n",
       "      <td>2024-11-30</td>\n",
       "      <td>02:31:00</td>\n",
       "    </tr>\n",
       "  </tbody>\n",
       "</table>\n",
       "<p>50000 rows × 4 columns</p>\n",
       "</div>"
      ],
      "text/plain": [
       "                       personal  id_partida      fecha      hora\n",
       "0       Alberto Torralba Sierra           1 2021-08-24  14:44:00\n",
       "1           Joel Ángel Campillo           2 2023-07-02  18:43:00\n",
       "2        Julio Luján Valderrama           3 2021-04-06  14:46:00\n",
       "3             Amado del Piñeiro           4 2020-10-02  02:20:00\n",
       "4      Débora Escolano Martinez           5 2024-01-30  14:09:00\n",
       "...                         ...         ...        ...       ...\n",
       "49995       Nélida Bauzà Porras       49996 2022-02-19  14:25:00\n",
       "49996           Régulo del Coca       49997 2024-10-15  05:18:00\n",
       "49997    Rosalva Fuente-Herrera       49998 2024-09-16  13:36:00\n",
       "49998            Jose Luis Reig       49999 2020-05-02  08:48:00\n",
       "49999      Eladio Godoy Galiano       50000 2024-11-30  02:31:00\n",
       "\n",
       "[50000 rows x 4 columns]"
      ]
     },
     "execution_count": 20,
     "metadata": {},
     "output_type": "execute_result"
    }
   ],
   "source": [
    "copia_juego = copia_juego.astype({'id_juego': int, 'coste_juego': float})\n",
    "copia_expansion = copia_expansion.astype({'id_expansion': int, 'coste_expansion': int})\n",
    "utiliza_expansion = utiliza_expansion.astype({'id_partida': int, 'id_expansion': int})\n",
    "organiza"
   ]
  },
  {
   "cell_type": "code",
   "execution_count": 21,
   "id": "9a0ef51a",
   "metadata": {},
   "outputs": [],
   "source": [
    "gana.rename(columns={'resultado': 'nombre_jugador'}, inplace=True)\n",
    "organiza.rename(columns={'personal': 'nombre_personal'}, inplace=True)"
   ]
  },
  {
   "cell_type": "code",
   "execution_count": 23,
   "id": "57ebc55b",
   "metadata": {},
   "outputs": [],
   "source": [
    "jugador.to_csv('csvs/jugador.csv', index=False, sep=';')\n",
    "juego.to_csv('csvs/juego.csv', index=False, sep=';')\n",
    "personal.to_csv('csvs/personal.csv', index=False, sep=';')\n",
    "copia_juego.to_csv('csvs/copia_juego.csv', index=False, sep=';')\n",
    "partida.to_csv('csvs/partida.csv', index=False, sep=';')\n",
    "expansion.to_csv('csvs/expansion.csv', index=False, sep=';')\n",
    "copia_expansion.to_csv('csvs/copia_expansion.csv', index=False, sep=';')\n",
    "utiliza_expansion.to_csv('csvs/utiliza_expansion.csv', index=False, sep=';')\n",
    "juega.to_csv('csvs/juega.csv', index=False, sep=';')\n",
    "gana.to_csv('csvs/gana.csv', index=False, sep=';')\n",
    "organiza.to_csv('csvs/organiza.csv', index=False, sep=';')\n"
   ]
  },
  {
   "cell_type": "markdown",
   "id": "949d5c20",
   "metadata": {},
   "source": [
    "# PASO A SQL"
   ]
  },
  {
   "cell_type": "code",
   "execution_count": null,
   "id": "0016a921",
   "metadata": {},
   "outputs": [],
   "source": [
    "# with open('db_pass.txt', 'r', encoding='utf8') as f:\n",
    "#     DB_PASS = f.read().strip()\n",
    "    \n",
    "# DB_PASS"
   ]
  },
  {
   "cell_type": "code",
   "execution_count": 24,
   "id": "7a766bba",
   "metadata": {},
   "outputs": [
    {
     "name": "stdout",
     "output_type": "stream",
     "text": [
      "Error fatal creando engine de SQLAlchemy o conectando: (mysql.connector.errors.DatabaseError) 2003 (HY000): Can't connect to MySQL server on 'localhost:3306' (10061)\n",
      "(Background on this error at: https://sqlalche.me/e/20/4xp6)\n"
     ]
    },
    {
     "ename": "SystemExit",
     "evalue": "No se puede continuar sin conexión a la base de datos.",
     "output_type": "error",
     "traceback": [
      "An exception has occurred, use %tb to see the full traceback.\n",
      "\u001b[31mSystemExit\u001b[39m\u001b[31m:\u001b[39m No se puede continuar sin conexión a la base de datos.\n"
     ]
    },
    {
     "name": "stderr",
     "output_type": "stream",
     "text": [
      "c:\\Users\\MAM\\OneDrive - Universidad Politécnica de Madrid\\Escritorio\\Apuntes_CDIA\\BBDD_MJA\\bbddenv\\Lib\\site-packages\\IPython\\core\\interactiveshell.py:3678: UserWarning: To exit: use 'exit', 'quit', or Ctrl-D.\n",
      "  warn(\"To exit: use 'exit', 'quit', or Ctrl-D.\", stacklevel=1)\n"
     ]
    }
   ],
   "source": [
    "from sqlalchemy import create_engine\n",
    "import os\n",
    "import sys\n",
    "\n",
    "# Configuración\n",
    "DB_USER = 'root'\n",
    "DB_PASS = ''  # Cambia esto a tu contraseña real\n",
    "DB_HOST = 'localhost'\n",
    "DB_NAME = 'trabajo'\n",
    "CSV_DIR = 'csvs'\n",
    "\n",
    "# Crear Engine de SQLAlchemy\n",
    "connection_string = f'mysql+mysqlconnector://{DB_USER}:{DB_PASS}@{DB_HOST}/{DB_NAME}'\n",
    "try:\n",
    "    engine = create_engine(connection_string, pool_recycle=3600)\n",
    "    with engine.connect() as connection:\n",
    "        print(\"Engine de SQLAlchemy creado y conexión probada exitosamente.\")\n",
    "except Exception as e:\n",
    "    print(f\"Error fatal creando engine de SQLAlchemy o conectando: {e}\")\n",
    "    sys.exit(\"No se puede continuar sin conexión a la base de datos.\")\n",
    "    \n",
    "# Orden de Carga\n",
    "ORDEN_CARGA = [\n",
    "    ('jugador.csv',              'jugador'),\n",
    "    ('juego.csv',                'juego'),\n",
    "    ('personal.csv',             'personal'),\n",
    "    ('expansion.csv',            'expansion'),\n",
    "    ('copia_juego.csv',          'copia_juego'),\n",
    "    ('copia_expansion.csv',      'copia_expansion'),\n",
    "    ('partida.csv',              'partida'),\n",
    "    ('juega.csv',                'juega'),\n",
    "    ('gana.csv',                 'gana'),\n",
    "    ('organiza.csv',             'organiza'),\n",
    "    ('utiliza_expansion.csv',    'utiliza')\n",
    "]\n",
    "\n",
    "# Bucle de Carga\n",
    "print(\"\\nIniciando carga de datos\")\n",
    "total_filas_procesadas = 0\n",
    "\n",
    "for csv_file, table_name in ORDEN_CARGA:\n",
    "    filepath = os.path.join(CSV_DIR, csv_file)\n",
    "    print(f\"--- Procesando {csv_file} para tabla {table_name} ---\")\n",
    "    try:\n",
    "        df = pd.read_csv(filepath, sep=';', keep_default_na=False, na_values=[''], engine='python')\n",
    "\n",
    "        if df.empty:\n",
    "            print(f\"Archivo {csv_file} está vacío. Saltando.\")\n",
    "            continue\n",
    "\n",
    "        df.to_sql(\n",
    "            name=table_name,\n",
    "            con=engine,\n",
    "            if_exists='append',\n",
    "            index=False,\n",
    "            chunksize=1000,\n",
    "            method=None\n",
    "        )\n",
    "        print(f\"Datos de {csv_file} cargados (o intento de carga) en tabla {table_name}. Filas en DataFrame: {len(df)}.\")\n",
    "        total_filas_procesadas += len(df)\n",
    "    except Exception as e:\n",
    "        print(f\"  ERROR procesando {filepath}: {e}\")\n",
    "        print(f\"  Revisa los datos en {csv_file} y la estructura de la tabla {table_name}.\")\n",
    "\n",
    "print(f\"\\nCarga completada. Total de filas procesadas en todos los DataFrames: {total_filas_procesadas}\")\n",
    "\n",
    "if 'engine' in locals() and engine:\n",
    "    engine.dispose()\n",
    "    print(\"Engine de SQLAlchemy eliminado.\")"
   ]
  }
 ],
 "metadata": {
  "kernelspec": {
   "display_name": "bbddenv",
   "language": "python",
   "name": "python3"
  },
  "language_info": {
   "codemirror_mode": {
    "name": "ipython",
    "version": 3
   },
   "file_extension": ".py",
   "mimetype": "text/x-python",
   "name": "python",
   "nbconvert_exporter": "python",
   "pygments_lexer": "ipython3",
   "version": "3.12.10"
  }
 },
 "nbformat": 4,
 "nbformat_minor": 5
}
